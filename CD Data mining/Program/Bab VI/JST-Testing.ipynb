{
 "cells": [
  {
   "cell_type": "code",
   "execution_count": 2,
   "metadata": {},
   "outputs": [],
   "source": [
    "#Impor Pustaka\n",
    "import pandas as pd\n",
    "import numpy as np\n",
    "from keras.models import Sequential\n",
    "from keras.layers import Dense, Activation\n",
    "from keras.models import model_from_yaml"
   ]
  },
  {
   "cell_type": "markdown",
   "metadata": {},
   "source": [
    "#### Menyiapkan Data Testing"
   ]
  },
  {
   "cell_type": "code",
   "execution_count": 3,
   "metadata": {},
   "outputs": [
    {
     "data": {
      "text/plain": [
       "array([[0.75, 0.74],\n",
       "       [1.25, 1.16],\n",
       "       [0.67, 1.69],\n",
       "       [2.47, 3.19],\n",
       "       [3.54, 2.45],\n",
       "       [3.42, 3.86],\n",
       "       [2.67, 3.47]])"
      ]
     },
     "execution_count": 3,
     "metadata": {},
     "output_type": "execute_result"
    }
   ],
   "source": [
    "#data testing\n",
    "data3=pd.read_csv('testbeasiswa.csv')\n",
    "df3=pd.DataFrame(data3,columns=['Mahasiswa','IPK','Tingkat Kemiskinan (TM)','Beasiswa/Tidak'])\n",
    "X3=np.asarray(data3)\n",
    "x_test=X3[:,1:3]\n",
    "y_test=X3[:,3:4]\n",
    "x_test"
   ]
  },
  {
   "cell_type": "markdown",
   "metadata": {},
   "source": [
    "#### Mengambil model JST dari File yaml"
   ]
  },
  {
   "cell_type": "code",
   "execution_count": 4,
   "metadata": {},
   "outputs": [
    {
     "name": "stdout",
     "output_type": "stream",
     "text": [
      "Model JST diambil dari File\n"
     ]
    }
   ],
   "source": [
    "#Mengambil model JST dari File yaml\n",
    "yaml_file = open('model.yaml', 'r')\n",
    "loaded_model_yaml = yaml_file.read()\n",
    "yaml_file.close()\n",
    "loaded_model = model_from_yaml(loaded_model_yaml)\n",
    "#Mengambil bobot JST\n",
    "loaded_model.load_weights(\"model.h5\")\n",
    "print(\"Model JST diambil dari File\")"
   ]
  },
  {
   "cell_type": "markdown",
   "metadata": {},
   "source": [
    "#### kompilasi model JST dan menguji dengan data test"
   ]
  },
  {
   "cell_type": "code",
   "execution_count": 5,
   "metadata": {},
   "outputs": [
    {
     "name": "stdout",
     "output_type": "stream",
     "text": [
      "[[0.49649695]\n",
      " [0.56886256]\n",
      " [0.55449325]\n",
      " [0.7920017 ]\n",
      " [0.81746775]\n",
      " [0.8696269 ]\n",
      " [0.81688493]]\n",
      "[[0.]\n",
      " [0.]\n",
      " [0.]\n",
      " [1.]\n",
      " [1.]\n",
      " [1.]\n",
      " [1.]]\n",
      "\r",
      "7/7 [==============================] - 0s 6ms/step\n"
     ]
    },
    {
     "data": {
      "text/plain": [
       "[0.4446743428707123, 0.7142857313156128]"
      ]
     },
     "execution_count": 5,
     "metadata": {},
     "output_type": "execute_result"
    }
   ],
   "source": [
    "#kompilasi model JST\n",
    "loaded_model.compile(optimizer='Adam',loss='binary_crossentropy',metrics=['accuracy'])\n",
    "#Prediksi\n",
    "pred = loaded_model.predict(x_test)\n",
    "print(pred)\n",
    "print(y_test)\n",
    "#Hitung Akurasi\n",
    "loaded_model.evaluate(x=x_test, y=y_test, batch_size=None, verbose=1, sample_weight=None, steps=None)\n"
   ]
  }
 ],
 "metadata": {
  "kernelspec": {
   "display_name": "Python 3",
   "language": "python",
   "name": "python3"
  },
  "language_info": {
   "codemirror_mode": {
    "name": "ipython",
    "version": 3
   },
   "file_extension": ".py",
   "mimetype": "text/x-python",
   "name": "python",
   "nbconvert_exporter": "python",
   "pygments_lexer": "ipython3",
   "version": "3.7.6"
  }
 },
 "nbformat": 4,
 "nbformat_minor": 4
}
