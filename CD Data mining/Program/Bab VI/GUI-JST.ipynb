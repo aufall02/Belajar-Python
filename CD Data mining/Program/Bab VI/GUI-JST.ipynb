{
 "cells": [
  {
   "cell_type": "code",
   "execution_count": 1,
   "metadata": {},
   "outputs": [
    {
     "ename": "ModuleNotFoundError",
     "evalue": "No module named 'keras'",
     "output_type": "error",
     "traceback": [
      "\u001b[1;31m---------------------------------------------------------------------------\u001b[0m",
      "\u001b[1;31mModuleNotFoundError\u001b[0m                       Traceback (most recent call last)",
      "\u001b[1;32m<ipython-input-1-cde103702e7b>\u001b[0m in \u001b[0;36m<module>\u001b[1;34m\u001b[0m\n\u001b[0;32m      2\u001b[0m \u001b[1;32mimport\u001b[0m \u001b[0mpandas\u001b[0m \u001b[1;32mas\u001b[0m \u001b[0mpd\u001b[0m\u001b[1;33m\u001b[0m\u001b[1;33m\u001b[0m\u001b[0m\n\u001b[0;32m      3\u001b[0m \u001b[1;32mimport\u001b[0m \u001b[0mnumpy\u001b[0m \u001b[1;32mas\u001b[0m \u001b[0mnp\u001b[0m\u001b[1;33m\u001b[0m\u001b[1;33m\u001b[0m\u001b[0m\n\u001b[1;32m----> 4\u001b[1;33m \u001b[1;32mfrom\u001b[0m \u001b[0mkeras\u001b[0m\u001b[1;33m.\u001b[0m\u001b[0mmodels\u001b[0m \u001b[1;32mimport\u001b[0m \u001b[0mSequential\u001b[0m\u001b[1;33m\u001b[0m\u001b[1;33m\u001b[0m\u001b[0m\n\u001b[0m\u001b[0;32m      5\u001b[0m \u001b[1;32mfrom\u001b[0m \u001b[0mkeras\u001b[0m\u001b[1;33m.\u001b[0m\u001b[0mlayers\u001b[0m \u001b[1;32mimport\u001b[0m \u001b[0mDense\u001b[0m\u001b[1;33m,\u001b[0m \u001b[0mActivation\u001b[0m\u001b[1;33m\u001b[0m\u001b[1;33m\u001b[0m\u001b[0m\n\u001b[0;32m      6\u001b[0m \u001b[1;32mfrom\u001b[0m \u001b[0mkeras\u001b[0m\u001b[1;33m.\u001b[0m\u001b[0mmodels\u001b[0m \u001b[1;32mimport\u001b[0m \u001b[0mmodel_from_yaml\u001b[0m\u001b[1;33m\u001b[0m\u001b[1;33m\u001b[0m\u001b[0m\n",
      "\u001b[1;31mModuleNotFoundError\u001b[0m: No module named 'keras'"
     ]
    }
   ],
   "source": [
    "#Impor Pustaka\n",
    "import pandas as pd\n",
    "import numpy as np\n",
    "from keras.models import Sequential\n",
    "from keras.layers import Dense, Activation\n",
    "from keras.models import model_from_yaml"
   ]
  },
  {
   "cell_type": "code",
   "execution_count": null,
   "metadata": {},
   "outputs": [],
   "source": [
    "#data testing\n",
    "data3=pd.read_csv('testbeasiswa.csv')\n",
    "df3=pd.DataFrame(data3,columns=['Mahasiswa','IPK','Tingkat Kemiskinan (TM)','Beasiswa/Tidak'])\n",
    "X3=np.asarray(data3)\n",
    "x_test=X3[:,1:3]\n",
    "y_test=X3[:,3:4]\n",
    "x_test"
   ]
  },
  {
   "cell_type": "code",
   "execution_count": null,
   "metadata": {},
   "outputs": [],
   "source": [
    "#Mengambil model JST dari File yaml\n",
    "yaml_file = open('model.yaml', 'r')\n",
    "loaded_model_yaml = yaml_file.read()\n",
    "yaml_file.close()\n",
    "loaded_model = model_from_yaml(loaded_model_yaml)\n",
    "#Mengambil bobot JST\n",
    "loaded_model.load_weights(\"model.h5\")\n",
    "print(\"Model JST diambil dari File\")"
   ]
  },
  {
   "cell_type": "code",
   "execution_count": null,
   "metadata": {},
   "outputs": [],
   "source": [
    "#kompilasi model JST\n",
    "loaded_model.compile(optimizer='Adam',loss='binary_crossentropy',metrics=['accuracy'])\n",
    "#Prediksi\n",
    "pred = loaded_model.predict(x_test)\n",
    "print(pred)\n",
    "print(y_test)\n",
    "#Hitung Akurasi\n",
    "loaded_model.evaluate(x=x_test, y=y_test, batch_size=None, verbose=1, sample_weight=None, steps=None)\n"
   ]
  },
  {
   "cell_type": "code",
   "execution_count": null,
   "metadata": {},
   "outputs": [],
   "source": [
    "import tkinter as tk\n",
    "def prediksi():\n",
    "    \"\"\" Prediksi dengan JST\n",
    "    \"\"\"\n",
    "    x = ent_ipk.get()\n",
    "    X = np.array(float(x)).reshape(-1,1)\n",
    "    y = ent_tm.get()\n",
    "    Y = np.array(float(y)).reshape(-1,1)\n",
    "    data2=np.concatenate([X,Y],axis=1)\n",
    "    jurusan=loaded_model.predict(data2)\n",
    "    jurusan=float(jurusan)\n",
    "    if (jurusan < 0.5):\n",
    "        hasil_jurusan[\"text\"] = \"Tidak Mendapat Beasiswa\"\n",
    "    else:\n",
    "        hasil_jurusan[\"text\"] = \"Mendapat Beasiswa\""
   ]
  },
  {
   "cell_type": "code",
   "execution_count": null,
   "metadata": {},
   "outputs": [],
   "source": [
    "## Set window\n",
    "window = tk.Tk()\n",
    "window.title(\"Penentuan Beasiswa\")\n",
    "window.resizable(width=True, height=True)\n",
    "\n",
    "# Membuat widget untuk masukan\n",
    "frm_entry = tk.Frame(master=window)\n",
    "ent_ipk = tk.Entry(master=frm_entry, width=10)\n",
    "lbl_varx = tk.Label(master=frm_entry, text=\"IPK\")\n",
    "ent_tm = tk.Entry(master=frm_entry, width=10)\n",
    "lbl_vary = tk.Label(master=frm_entry, text=\"Indeks Kemiskinan\")\n",
    "\n",
    "# Layout form masukan dengan  .grid() geometry manager\n",
    "ent_ipk.grid(row=0, column=1, sticky=\"e\")\n",
    "lbl_varx.grid(row=0, column=0, sticky=\"w\")\n",
    "lbl_vary.grid(row=1, column=0, sticky=\"w\")\n",
    "ent_tm.grid(row=1, column=1, sticky=\"e\")\n",
    "\n",
    "# Membuat tombol dan keluaran\n",
    "btn_convert = tk.Button(\n",
    "    master=window,\n",
    "    text=\"Penentuan Beasiswa\",\n",
    "    command=prediksi\n",
    ")\n",
    "\n",
    "# Set-up layout keluaran dengan .grid() geometry manager\n",
    "hasil_jurusan = tk.Label(master=frm_entry, width=20)\n",
    "lbl_jurusan = tk.Label(master=frm_entry, text=\"Hasil Uji Kelayakan:\")\n",
    "frm_entry.grid(row=0, column=1, padx=10)\n",
    "btn_convert.grid(row=1, column=1, pady=10)\n",
    "hasil_jurusan.grid(row=4, column=1, sticky=\"w\")\n",
    "lbl_jurusan.grid(row=4, column=0, sticky=\"w\")\n",
    "\n",
    "# Menjalankan aplikasi\n",
    "window.mainloop()"
   ]
  }
 ],
 "metadata": {
  "kernelspec": {
   "display_name": "Python 3",
   "language": "python",
   "name": "python3"
  },
  "language_info": {
   "codemirror_mode": {
    "name": "ipython",
    "version": 3
   },
   "file_extension": ".py",
   "mimetype": "text/x-python",
   "name": "python",
   "nbconvert_exporter": "python",
   "pygments_lexer": "ipython3",
   "version": "3.7.4"
  }
 },
 "nbformat": 4,
 "nbformat_minor": 4
}
