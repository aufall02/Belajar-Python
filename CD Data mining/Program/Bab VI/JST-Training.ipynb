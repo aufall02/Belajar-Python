{
 "cells": [
  {
   "cell_type": "code",
   "execution_count": 8,
   "metadata": {
    "colab": {
     "base_uri": "https://localhost:8080/",
     "height": 35
    },
    "colab_type": "code",
    "id": "8oSLA57m5r59",
    "outputId": "7aebe65f-214e-4476-9b1b-94b9f630d6c7"
   },
   "outputs": [],
   "source": [
    "#Impor Pustaka\n",
    "import pandas as pd\n",
    "import numpy as np\n",
    "from keras.models import Sequential\n",
    "from keras.layers import Dense, Activation\n",
    "from keras.models import model_from_yaml\n"
   ]
  },
  {
   "cell_type": "markdown",
   "metadata": {},
   "source": [
    "#### Menyiapkan Dataset"
   ]
  },
  {
   "cell_type": "code",
   "execution_count": 9,
   "metadata": {
    "colab": {
     "base_uri": "https://localhost:8080/",
     "height": 179,
     "resources": {
      "http://localhost:8080/nbextensions/google.colab/files.js": {
       "data": "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",
       "headers": [
        [
         "content-type",
         "application/javascript"
        ]
       ],
       "ok": true,
       "status": 200,
       "status_text": ""
      }
     }
    },
    "colab_type": "code",
    "id": "oFQ4cVHV5xfH",
    "outputId": "fdd00592-abd1-4bdd-f1b2-478977a86c14"
   },
   "outputs": [],
   "source": [
    "#data training\n",
    "data1=pd.read_csv('beasiswa.csv')\n",
    "df1=pd.DataFrame(data1,columns=['Mahasiswa','IPK','Tingkat Kemiskinan (TM)','Beasiswa/Tidak'])\n",
    "X1=np.asarray(data1)\n",
    "x_train=X1[:,1:3]\n",
    "y_train=X1[:,3:4]\n",
    "#data validasi\n",
    "data2=pd.read_csv('validasibeasiswa.csv')\n",
    "df2=pd.DataFrame(data2,columns=['Mahasiswa','IPK','Tingkat Kemiskinan (TM)','Beasiswa/Tidak'])\n",
    "X2=np.asarray(data2)\n",
    "x_val=X2[:,1:3]\n",
    "y_val=X2[:,3:4]"
   ]
  },
  {
   "cell_type": "markdown",
   "metadata": {},
   "source": [
    "#### Menyiapkan Model JST"
   ]
  },
  {
   "cell_type": "code",
   "execution_count": 10,
   "metadata": {
    "colab": {
     "base_uri": "https://localhost:8080/",
     "height": 557
    },
    "colab_type": "code",
    "id": "6V8wF4EjNFo4",
    "outputId": "02a1196d-a5b1-4ccc-b00a-1573193e8373"
   },
   "outputs": [
    {
     "name": "stdout",
     "output_type": "stream",
     "text": [
      "Model: \"sequential_3\"\n",
      "_________________________________________________________________\n",
      "Layer (type)                 Output Shape              Param #   \n",
      "=================================================================\n",
      "dense_13 (Dense)             (None, 64)                192       \n",
      "_________________________________________________________________\n",
      "dense_14 (Dense)             (None, 32)                2080      \n",
      "_________________________________________________________________\n",
      "dense_15 (Dense)             (None, 16)                528       \n",
      "_________________________________________________________________\n",
      "dense_16 (Dense)             (None, 8)                 136       \n",
      "_________________________________________________________________\n",
      "dense_17 (Dense)             (None, 4)                 36        \n",
      "_________________________________________________________________\n",
      "dense_18 (Dense)             (None, 1)                 5         \n",
      "=================================================================\n",
      "Total params: 2,977\n",
      "Trainable params: 2,977\n",
      "Non-trainable params: 0\n",
      "_________________________________________________________________\n"
     ]
    }
   ],
   "source": [
    "#Mendifinisiakan arsitektur model\n",
    "model = Sequential()\n",
    "model.add(Dense(64, input_dim=2,activation = \"relu\")) #Layer 1 (NOTE: sesuaikan dimensi input)\n",
    "model.add(Dense(32,activation = \"relu\")) #Layer 2\n",
    "model.add(Dense(16,activation = \"relu\")) #Layer 3\n",
    "model.add(Dense(8,activation = \"relu\")) #Layer 4\n",
    "model.add(Dense(4,activation = \"relu\")) #Layer 5\n",
    "model.add(Dense(1,activation = \"sigmoid\")) #Output Layer\n",
    "model.summary()"
   ]
  },
  {
   "cell_type": "code",
   "execution_count": 11,
   "metadata": {
    "colab": {
     "base_uri": "https://localhost:8080/",
     "height": 1000
    },
    "colab_type": "code",
    "id": "KuQ8ea8aMnMk",
    "outputId": "20465acf-e838-41fe-ac5a-544eff40bd90"
   },
   "outputs": [
    {
     "name": "stdout",
     "output_type": "stream",
     "text": [
      "Train on 11 samples, validate on 7 samples\n",
      "Epoch 1/50\n",
      "11/11 [==============================] - 0s 36ms/step - loss: 0.6609 - accuracy: 0.5455 - val_loss: 0.6438 - val_accuracy: 0.5714\n",
      "Epoch 2/50\n",
      "11/11 [==============================] - 0s 2ms/step - loss: 0.6533 - accuracy: 0.5455 - val_loss: 0.6395 - val_accuracy: 0.5714\n",
      "Epoch 3/50\n",
      "11/11 [==============================] - 0s 314us/step - loss: 0.6495 - accuracy: 0.5455 - val_loss: 0.6341 - val_accuracy: 0.5714\n",
      "Epoch 4/50\n",
      "11/11 [==============================] - 0s 272us/step - loss: 0.6454 - accuracy: 0.5455 - val_loss: 0.6281 - val_accuracy: 0.5714\n",
      "Epoch 5/50\n",
      "11/11 [==============================] - 0s 275us/step - loss: 0.6409 - accuracy: 0.5455 - val_loss: 0.6217 - val_accuracy: 0.5714\n",
      "Epoch 6/50\n",
      "11/11 [==============================] - 0s 398us/step - loss: 0.6361 - accuracy: 0.5455 - val_loss: 0.6151 - val_accuracy: 0.5714\n",
      "Epoch 7/50\n",
      "11/11 [==============================] - 0s 329us/step - loss: 0.6311 - accuracy: 0.5455 - val_loss: 0.6099 - val_accuracy: 0.5714\n",
      "Epoch 8/50\n",
      "11/11 [==============================] - 0s 505us/step - loss: 0.6267 - accuracy: 0.5455 - val_loss: 0.6045 - val_accuracy: 0.5714\n",
      "Epoch 9/50\n",
      "11/11 [==============================] - 0s 316us/step - loss: 0.6225 - accuracy: 0.5455 - val_loss: 0.5993 - val_accuracy: 0.5714\n",
      "Epoch 10/50\n",
      "11/11 [==============================] - 0s 0us/step - loss: 0.6183 - accuracy: 0.5455 - val_loss: 0.5941 - val_accuracy: 0.5714\n",
      "Epoch 11/50\n",
      "11/11 [==============================] - 0s 294us/step - loss: 0.6139 - accuracy: 0.5455 - val_loss: 0.5886 - val_accuracy: 0.5714\n",
      "Epoch 12/50\n",
      "11/11 [==============================] - 0s 610us/step - loss: 0.6096 - accuracy: 0.5455 - val_loss: 0.5825 - val_accuracy: 0.5714\n",
      "Epoch 13/50\n",
      "11/11 [==============================] - 0s 310us/step - loss: 0.6050 - accuracy: 0.5455 - val_loss: 0.5763 - val_accuracy: 0.5714\n",
      "Epoch 14/50\n",
      "11/11 [==============================] - 0s 590us/step - loss: 0.6006 - accuracy: 0.5455 - val_loss: 0.5708 - val_accuracy: 0.5714\n",
      "Epoch 15/50\n",
      "11/11 [==============================] - 0s 568us/step - loss: 0.5965 - accuracy: 0.5455 - val_loss: 0.5654 - val_accuracy: 0.5714\n",
      "Epoch 16/50\n",
      "11/11 [==============================] - 0s 372us/step - loss: 0.5925 - accuracy: 0.5455 - val_loss: 0.5600 - val_accuracy: 0.5714\n",
      "Epoch 17/50\n",
      "11/11 [==============================] - 0s 664us/step - loss: 0.5883 - accuracy: 0.5455 - val_loss: 0.5547 - val_accuracy: 0.5714\n",
      "Epoch 18/50\n",
      "11/11 [==============================] - 0s 479us/step - loss: 0.5843 - accuracy: 0.5455 - val_loss: 0.5497 - val_accuracy: 0.5714\n",
      "Epoch 19/50\n",
      "11/11 [==============================] - 0s 539us/step - loss: 0.5806 - accuracy: 0.5455 - val_loss: 0.5447 - val_accuracy: 0.5714\n",
      "Epoch 20/50\n",
      "11/11 [==============================] - 0s 275us/step - loss: 0.5770 - accuracy: 0.5455 - val_loss: 0.5400 - val_accuracy: 0.5714\n",
      "Epoch 21/50\n",
      "11/11 [==============================] - 0s 339us/step - loss: 0.5736 - accuracy: 0.5455 - val_loss: 0.5353 - val_accuracy: 0.5714\n",
      "Epoch 22/50\n",
      "11/11 [==============================] - 0s 595us/step - loss: 0.5702 - accuracy: 0.5455 - val_loss: 0.5308 - val_accuracy: 0.5714\n",
      "Epoch 23/50\n",
      "11/11 [==============================] - 0s 301us/step - loss: 0.5670 - accuracy: 0.5455 - val_loss: 0.5264 - val_accuracy: 0.5714\n",
      "Epoch 24/50\n",
      "11/11 [==============================] - 0s 557us/step - loss: 0.5640 - accuracy: 0.5455 - val_loss: 0.5222 - val_accuracy: 0.5714\n",
      "Epoch 25/50\n",
      "11/11 [==============================] - 0s 91us/step - loss: 0.5610 - accuracy: 0.5455 - val_loss: 0.5181 - val_accuracy: 0.5714\n",
      "Epoch 26/50\n",
      "11/11 [==============================] - 0s 372us/step - loss: 0.5582 - accuracy: 0.5455 - val_loss: 0.5141 - val_accuracy: 0.5714\n",
      "Epoch 27/50\n",
      "11/11 [==============================] - 0s 623us/step - loss: 0.5555 - accuracy: 0.5455 - val_loss: 0.5103 - val_accuracy: 0.5714\n",
      "Epoch 28/50\n",
      "11/11 [==============================] - 0s 641us/step - loss: 0.5528 - accuracy: 0.5455 - val_loss: 0.5066 - val_accuracy: 0.5714\n",
      "Epoch 29/50\n",
      "11/11 [==============================] - 0s 288us/step - loss: 0.5503 - accuracy: 0.5455 - val_loss: 0.5030 - val_accuracy: 0.5714\n",
      "Epoch 30/50\n",
      "11/11 [==============================] - 0s 256us/step - loss: 0.5479 - accuracy: 0.5455 - val_loss: 0.4995 - val_accuracy: 0.5714\n",
      "Epoch 31/50\n",
      "11/11 [==============================] - 0s 569us/step - loss: 0.5454 - accuracy: 0.5455 - val_loss: 0.4961 - val_accuracy: 0.5714\n",
      "Epoch 32/50\n",
      "11/11 [==============================] - 0s 304us/step - loss: 0.5431 - accuracy: 0.5455 - val_loss: 0.4929 - val_accuracy: 0.5714\n",
      "Epoch 33/50\n",
      "11/11 [==============================] - 0s 320us/step - loss: 0.5407 - accuracy: 0.5455 - val_loss: 0.4898 - val_accuracy: 0.5714\n",
      "Epoch 34/50\n",
      "11/11 [==============================] - 0s 363us/step - loss: 0.5383 - accuracy: 0.5455 - val_loss: 0.4868 - val_accuracy: 0.5714\n",
      "Epoch 35/50\n",
      "11/11 [==============================] - 0s 331us/step - loss: 0.5359 - accuracy: 0.5455 - val_loss: 0.4839 - val_accuracy: 0.5714\n",
      "Epoch 36/50\n",
      "11/11 [==============================] - 0s 441us/step - loss: 0.5336 - accuracy: 0.5455 - val_loss: 0.4810 - val_accuracy: 0.5714\n",
      "Epoch 37/50\n",
      "11/11 [==============================] - 0s 475us/step - loss: 0.5313 - accuracy: 0.5455 - val_loss: 0.4783 - val_accuracy: 0.5714\n",
      "Epoch 38/50\n",
      "11/11 [==============================] - 0s 195us/step - loss: 0.5289 - accuracy: 0.5455 - val_loss: 0.4756 - val_accuracy: 0.5714\n",
      "Epoch 39/50\n",
      "11/11 [==============================] - 0s 366us/step - loss: 0.5266 - accuracy: 0.5455 - val_loss: 0.4731 - val_accuracy: 0.5714\n",
      "Epoch 40/50\n",
      "11/11 [==============================] - 0s 274us/step - loss: 0.5242 - accuracy: 0.5455 - val_loss: 0.4705 - val_accuracy: 0.5714\n",
      "Epoch 41/50\n",
      "11/11 [==============================] - 0s 659us/step - loss: 0.5217 - accuracy: 0.5455 - val_loss: 0.4680 - val_accuracy: 0.5714\n",
      "Epoch 42/50\n",
      "11/11 [==============================] - 0s 619us/step - loss: 0.5192 - accuracy: 0.5455 - val_loss: 0.4655 - val_accuracy: 0.5714\n",
      "Epoch 43/50\n",
      "11/11 [==============================] - 0s 230us/step - loss: 0.5167 - accuracy: 0.5455 - val_loss: 0.4630 - val_accuracy: 0.5714\n",
      "Epoch 44/50\n",
      "11/11 [==============================] - 0s 358us/step - loss: 0.5141 - accuracy: 0.5455 - val_loss: 0.4606 - val_accuracy: 0.5714\n",
      "Epoch 45/50\n",
      "11/11 [==============================] - 0s 625us/step - loss: 0.5115 - accuracy: 0.5455 - val_loss: 0.4583 - val_accuracy: 0.5714\n",
      "Epoch 46/50\n",
      "11/11 [==============================] - 0s 645us/step - loss: 0.5089 - accuracy: 0.5455 - val_loss: 0.4559 - val_accuracy: 0.5714\n",
      "Epoch 47/50\n",
      "11/11 [==============================] - 0s 457us/step - loss: 0.5063 - accuracy: 0.5455 - val_loss: 0.4534 - val_accuracy: 0.7143\n",
      "Epoch 48/50\n",
      "11/11 [==============================] - 0s 467us/step - loss: 0.5035 - accuracy: 0.5455 - val_loss: 0.4509 - val_accuracy: 0.7143\n",
      "Epoch 49/50\n",
      "11/11 [==============================] - 0s 381us/step - loss: 0.5010 - accuracy: 0.5455 - val_loss: 0.4484 - val_accuracy: 0.7143\n",
      "Epoch 50/50\n",
      "11/11 [==============================] - 0s 417us/step - loss: 0.4983 - accuracy: 0.5455 - val_loss: 0.4464 - val_accuracy: 0.7143\n"
     ]
    },
    {
     "data": {
      "text/plain": [
       "<keras.callbacks.callbacks.History at 0x1c4aab3f148>"
      ]
     },
     "execution_count": 11,
     "metadata": {},
     "output_type": "execute_result"
    }
   ],
   "source": [
    "#Mengkonfigurasi Model\n",
    "model.compile(optimizer='Adam',loss='binary_crossentropy',metrics=['accuracy'])\n",
    "#Train the model\n",
    "model.fit(x_train, y_train, batch_size=64, epochs=50, validation_data=(x_val,y_val))"
   ]
  },
  {
   "cell_type": "markdown",
   "metadata": {},
   "source": [
    "#### Validasi dan Menjalankan Model JST"
   ]
  },
  {
   "cell_type": "code",
   "execution_count": 12,
   "metadata": {
    "colab": {
     "base_uri": "https://localhost:8080/",
     "height": 364
    },
    "colab_type": "code",
    "id": "Uz7SeBGiP2Li",
    "outputId": "958210fe-24af-4e54-b5b6-b8212ff885a0"
   },
   "outputs": [
    {
     "name": "stdout",
     "output_type": "stream",
     "text": [
      "7/7 [==============================] - 0s 114us/step\n",
      "7/7 [==============================] - 0s 130us/step\n",
      "['loss', 'accuracy'] [0.4464417099952698, 0.7142857313156128]\n",
      "[[0.49649695]\n",
      " [0.56886256]\n",
      " [0.55449325]\n",
      " [0.7920017 ]\n",
      " [0.81746775]\n",
      " [0.8696269 ]\n",
      " [0.81688493]]\n",
      "[[0.]\n",
      " [0.]\n",
      " [0.]\n",
      " [1.]\n",
      " [1.]\n",
      " [1.]\n",
      " [1.]]\n",
      "7/7 [==============================] - 0s 577us/step\n",
      "7/7 [==============================] - 0s 571us/step\n",
      "['loss', 'accuracy'] [0.4446743428707123, 0.7142857313156128]\n"
     ]
    }
   ],
   "source": [
    "#Menghitung akurasi dan error(loss)\n",
    "model.evaluate(x=x_val, y=y_val, batch_size=None, verbose=1, sample_weight=None, steps=None)\n",
    "print(model.metrics_names, model.evaluate(x_val,y_val))\n",
    "#Prediksi\n",
    "pred = model.predict(x_test)\n",
    "print(pred)\n",
    "print(y_test)\n",
    "#Hitung Akurasi\n",
    "model.evaluate(x=x_test, y=y_test, batch_size=None, verbose=1, sample_weight=None, steps=None)\n",
    "print(model.metrics_names, model.evaluate(x_test,y_test))"
   ]
  },
  {
   "cell_type": "markdown",
   "metadata": {},
   "source": [
    "#### Menyimpan dan Mengambil Model JST dari File"
   ]
  },
  {
   "cell_type": "code",
   "execution_count": 13,
   "metadata": {},
   "outputs": [
    {
     "name": "stdout",
     "output_type": "stream",
     "text": [
      "Saved model to disk\n"
     ]
    }
   ],
   "source": [
    "from keras.models import model_from_yaml\n",
    "# serialize model to YAML\n",
    "model_yaml = model.to_yaml()\n",
    "with open(\"model.yaml\", \"w\") as yaml_file:\n",
    "    yaml_file.write(model_yaml)\n",
    "# serialize weights to HDF5\n",
    "model.save_weights(\"model.h5\")\n",
    "print(\"Saved model to disk\")"
   ]
  }
 ],
 "metadata": {
  "colab": {
   "collapsed_sections": [],
   "name": "neuraltrain.ipynb",
   "provenance": []
  },
  "kernelspec": {
   "display_name": "Python 3",
   "language": "python",
   "name": "python3"
  },
  "language_info": {
   "codemirror_mode": {
    "name": "ipython",
    "version": 3
   },
   "file_extension": ".py",
   "mimetype": "text/x-python",
   "name": "python",
   "nbconvert_exporter": "python",
   "pygments_lexer": "ipython3",
   "version": "3.7.6"
  }
 },
 "nbformat": 4,
 "nbformat_minor": 1
}
