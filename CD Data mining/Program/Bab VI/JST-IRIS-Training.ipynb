{
 "cells": [
  {
   "cell_type": "markdown",
   "metadata": {},
   "source": [
    "### Impor Pustaka dan Pemodelan JST"
   ]
  },
  {
   "cell_type": "code",
   "execution_count": 14,
   "metadata": {
    "colab": {},
    "colab_type": "code",
    "id": "aD3QpxU-OWFC"
   },
   "outputs": [
    {
     "name": "stdout",
     "output_type": "stream",
     "text": [
      "Model: \"sequential_3\"\n",
      "_________________________________________________________________\n",
      "Layer (type)                 Output Shape              Param #   \n",
      "=================================================================\n",
      "dense_13 (Dense)             (None, 128)               640       \n",
      "_________________________________________________________________\n",
      "dense_14 (Dense)             (None, 64)                8256      \n",
      "_________________________________________________________________\n",
      "dense_15 (Dense)             (None, 32)                2080      \n",
      "_________________________________________________________________\n",
      "dense_16 (Dense)             (None, 8)                 264       \n",
      "_________________________________________________________________\n",
      "dense_17 (Dense)             (None, 4)                 36        \n",
      "_________________________________________________________________\n",
      "dense_18 (Dense)             (None, 3)                 15        \n",
      "=================================================================\n",
      "Total params: 11,291\n",
      "Trainable params: 11,291\n",
      "Non-trainable params: 0\n",
      "_________________________________________________________________\n"
     ]
    }
   ],
   "source": [
    "# impor library\n",
    "from keras.models import Sequential\n",
    "from keras.layers import Dense\n",
    "from keras.wrappers.scikit_learn import KerasClassifier\n",
    "from sklearn.model_selection import StratifiedKFold\n",
    "from sklearn.model_selection import cross_val_score\n",
    "import numpy as np\n",
    "import pandas as pd\n",
    "\n",
    "#jst\n",
    "model = Sequential()\n",
    "model.add(Dense(128, input_dim=4, activation='relu'))\n",
    "model.add(Dense(64, activation='relu'))\n",
    "model.add(Dense(32, activation='relu'))\n",
    "model.add(Dense(8, activation='relu'))\n",
    "model.add(Dense(4, activation='relu'))\n",
    "model.add(Dense(3, activation='softmax'))\n",
    "model.summary()"
   ]
  },
  {
   "cell_type": "markdown",
   "metadata": {},
   "source": [
    "### Mengambil Data Training dan Testing"
   ]
  },
  {
   "cell_type": "code",
   "execution_count": 15,
   "metadata": {
    "colab": {},
    "colab_type": "code",
    "id": "UaPDZN2JOdkT"
   },
   "outputs": [],
   "source": [
    "#load data train\n",
    "data = pd.read_csv('datairistrain.csv', header=None)\n",
    "dataset=np.asarray(data)\n",
    "# split into input (X) and output (Y) variables\n",
    "X = dataset[1:,0:4]\n",
    "Y = dataset[1:,4:5]"
   ]
  },
  {
   "cell_type": "code",
   "execution_count": 16,
   "metadata": {
    "colab": {},
    "colab_type": "code",
    "id": "b0HqewSFy2Hz"
   },
   "outputs": [],
   "source": [
    "#load data test\n",
    "data = pd.read_csv('datairistest.csv', header=None)\n",
    "dataset=np.asarray(data)\n",
    "# split into input (X) and output (Y) variables\n",
    "tes = dataset[1:,0:4]\n",
    "target = dataset[1:,4:5]\n"
   ]
  },
  {
   "cell_type": "markdown",
   "metadata": {},
   "source": [
    "### Kompilasi dan Proses Pelatihan"
   ]
  },
  {
   "cell_type": "code",
   "execution_count": 17,
   "metadata": {
    "colab": {},
    "colab_type": "code",
    "id": "4STYaFuTU53v"
   },
   "outputs": [],
   "source": [
    "# Compile model\n",
    "model.compile(loss='sparse_categorical_crossentropy', optimizer='sgd', metrics=['accuracy'])\n"
   ]
  },
  {
   "cell_type": "code",
   "execution_count": 18,
   "metadata": {
    "colab": {},
    "colab_type": "code",
    "id": "8wpd0wOItdno"
   },
   "outputs": [
    {
     "name": "stdout",
     "output_type": "stream",
     "text": [
      "Train on 75 samples, validate on 75 samples\n",
      "Epoch 1/50\n",
      "75/75 [==============================] - 0s 3ms/step - loss: 1.0912 - accuracy: 0.4000 - val_loss: 1.0863 - val_accuracy: 0.3600\n",
      "Epoch 2/50\n",
      "75/75 [==============================] - 0s 219us/step - loss: 1.1030 - accuracy: 0.3733 - val_loss: 1.0843 - val_accuracy: 0.3467\n",
      "Epoch 3/50\n",
      "75/75 [==============================] - 0s 261us/step - loss: 1.0879 - accuracy: 0.3333 - val_loss: 1.0799 - val_accuracy: 0.4800\n",
      "Epoch 4/50\n",
      "75/75 [==============================] - 0s 182us/step - loss: 1.0841 - accuracy: 0.2800 - val_loss: 1.0783 - val_accuracy: 0.3467\n",
      "Epoch 5/50\n",
      "75/75 [==============================] - 0s 162us/step - loss: 1.0822 - accuracy: 0.3200 - val_loss: 1.0750 - val_accuracy: 0.3467\n",
      "Epoch 6/50\n",
      "75/75 [==============================] - 0s 170us/step - loss: 1.0791 - accuracy: 0.3200 - val_loss: 1.0720 - val_accuracy: 0.3467\n",
      "Epoch 7/50\n",
      "75/75 [==============================] - 0s 167us/step - loss: 1.0755 - accuracy: 0.3200 - val_loss: 1.0691 - val_accuracy: 0.3467\n",
      "Epoch 8/50\n",
      "75/75 [==============================] - 0s 148us/step - loss: 1.0725 - accuracy: 0.3200 - val_loss: 1.0662 - val_accuracy: 0.3467\n",
      "Epoch 9/50\n",
      "75/75 [==============================] - 0s 207us/step - loss: 1.0697 - accuracy: 0.3200 - val_loss: 1.0636 - val_accuracy: 0.3467\n",
      "Epoch 10/50\n",
      "75/75 [==============================] - 0s 154us/step - loss: 1.0676 - accuracy: 0.3200 - val_loss: 1.0611 - val_accuracy: 0.3467\n",
      "Epoch 11/50\n",
      "75/75 [==============================] - 0s 176us/step - loss: 1.0659 - accuracy: 0.3200 - val_loss: 1.0587 - val_accuracy: 0.3467\n",
      "Epoch 12/50\n",
      "75/75 [==============================] - 0s 157us/step - loss: 1.0625 - accuracy: 0.3200 - val_loss: 1.0562 - val_accuracy: 0.3467\n",
      "Epoch 13/50\n",
      "75/75 [==============================] - 0s 203us/step - loss: 1.0598 - accuracy: 0.3200 - val_loss: 1.0535 - val_accuracy: 0.3733\n",
      "Epoch 14/50\n",
      "75/75 [==============================] - 0s 173us/step - loss: 1.0553 - accuracy: 0.2400 - val_loss: 1.0387 - val_accuracy: 0.3467\n",
      "Epoch 15/50\n",
      "75/75 [==============================] - 0s 166us/step - loss: 1.0369 - accuracy: 0.3200 - val_loss: 1.0246 - val_accuracy: 0.3333\n",
      "Epoch 16/50\n",
      "75/75 [==============================] - 0s 176us/step - loss: 1.0238 - accuracy: 0.3333 - val_loss: 1.0017 - val_accuracy: 0.3333\n",
      "Epoch 17/50\n",
      "75/75 [==============================] - 0s 207us/step - loss: 0.9997 - accuracy: 0.3333 - val_loss: 0.9875 - val_accuracy: 0.3333\n",
      "Epoch 18/50\n",
      "75/75 [==============================] - 0s 189us/step - loss: 0.9837 - accuracy: 0.3333 - val_loss: 0.9715 - val_accuracy: 0.3333\n",
      "Epoch 19/50\n",
      "75/75 [==============================] - 0s 208us/step - loss: 0.9704 - accuracy: 0.3333 - val_loss: 0.9656 - val_accuracy: 0.3333\n",
      "Epoch 20/50\n",
      "75/75 [==============================] - 0s 167us/step - loss: 0.9613 - accuracy: 0.3333 - val_loss: 0.9480 - val_accuracy: 0.3333\n",
      "Epoch 21/50\n",
      "75/75 [==============================] - 0s 123us/step - loss: 0.9464 - accuracy: 0.3333 - val_loss: 0.9374 - val_accuracy: 0.3333\n",
      "Epoch 22/50\n",
      "75/75 [==============================] - 0s 162us/step - loss: 0.9362 - accuracy: 0.3333 - val_loss: 0.9268 - val_accuracy: 0.3333\n",
      "Epoch 23/50\n",
      "75/75 [==============================] - 0s 218us/step - loss: 0.9244 - accuracy: 0.3467 - val_loss: 0.9161 - val_accuracy: 0.3467\n",
      "Epoch 24/50\n",
      "75/75 [==============================] - 0s 309us/step - loss: 0.9146 - accuracy: 0.4000 - val_loss: 0.9073 - val_accuracy: 0.4533\n",
      "Epoch 25/50\n",
      "75/75 [==============================] - 0s 313us/step - loss: 0.9053 - accuracy: 0.4800 - val_loss: 0.8997 - val_accuracy: 0.5467\n",
      "Epoch 26/50\n",
      "75/75 [==============================] - 0s 153us/step - loss: 0.8960 - accuracy: 0.6267 - val_loss: 0.8903 - val_accuracy: 0.4667\n",
      "Epoch 27/50\n",
      "75/75 [==============================] - 0s 155us/step - loss: 0.8872 - accuracy: 0.5733 - val_loss: 0.8782 - val_accuracy: 0.5067\n",
      "Epoch 28/50\n",
      "75/75 [==============================] - 0s 186us/step - loss: 0.8740 - accuracy: 0.5333 - val_loss: 0.8667 - val_accuracy: 0.6267\n",
      "Epoch 29/50\n",
      "75/75 [==============================] - 0s 158us/step - loss: 0.8637 - accuracy: 0.6533 - val_loss: 0.8582 - val_accuracy: 0.5733\n",
      "Epoch 30/50\n",
      "75/75 [==============================] - 0s 209us/step - loss: 0.8534 - accuracy: 0.6533 - val_loss: 0.8529 - val_accuracy: 0.5200\n",
      "Epoch 31/50\n",
      "75/75 [==============================] - 0s 144us/step - loss: 0.8429 - accuracy: 0.5733 - val_loss: 0.8477 - val_accuracy: 0.6533\n",
      "Epoch 32/50\n",
      "75/75 [==============================] - 0s 127us/step - loss: 0.8439 - accuracy: 0.6533 - val_loss: 0.8331 - val_accuracy: 0.6133\n",
      "Epoch 33/50\n",
      "75/75 [==============================] - 0s 170us/step - loss: 0.8239 - accuracy: 0.6667 - val_loss: 0.8204 - val_accuracy: 0.6533\n",
      "Epoch 34/50\n",
      "75/75 [==============================] - 0s 198us/step - loss: 0.8143 - accuracy: 0.6800 - val_loss: 0.8117 - val_accuracy: 0.6533\n",
      "Epoch 35/50\n",
      "75/75 [==============================] - 0s 156us/step - loss: 0.8068 - accuracy: 0.6800 - val_loss: 0.8056 - val_accuracy: 0.6533\n",
      "Epoch 36/50\n",
      "75/75 [==============================] - 0s 138us/step - loss: 0.7986 - accuracy: 0.6800 - val_loss: 0.7947 - val_accuracy: 0.6533\n",
      "Epoch 37/50\n",
      "75/75 [==============================] - 0s 132us/step - loss: 0.7879 - accuracy: 0.6800 - val_loss: 0.7866 - val_accuracy: 0.6533\n",
      "Epoch 38/50\n",
      "75/75 [==============================] - 0s 199us/step - loss: 0.7798 - accuracy: 0.6800 - val_loss: 0.7812 - val_accuracy: 0.6533\n",
      "Epoch 39/50\n",
      "75/75 [==============================] - 0s 135us/step - loss: 0.7741 - accuracy: 0.6800 - val_loss: 0.7712 - val_accuracy: 0.6533\n",
      "Epoch 40/50\n",
      "75/75 [==============================] - 0s 260us/step - loss: 0.7639 - accuracy: 0.6800 - val_loss: 0.7632 - val_accuracy: 0.6533\n",
      "Epoch 41/50\n",
      "75/75 [==============================] - 0s 267us/step - loss: 0.7565 - accuracy: 0.6800 - val_loss: 0.7573 - val_accuracy: 0.6533\n",
      "Epoch 42/50\n",
      "75/75 [==============================] - 0s 180us/step - loss: 0.7475 - accuracy: 0.6800 - val_loss: 0.7503 - val_accuracy: 0.6533\n",
      "Epoch 43/50\n",
      "75/75 [==============================] - 0s 189us/step - loss: 0.7414 - accuracy: 0.6800 - val_loss: 0.7414 - val_accuracy: 0.6533\n",
      "Epoch 44/50\n",
      "75/75 [==============================] - 0s 201us/step - loss: 0.7344 - accuracy: 0.6800 - val_loss: 0.7327 - val_accuracy: 0.6533\n",
      "Epoch 45/50\n",
      "75/75 [==============================] - 0s 198us/step - loss: 0.7236 - accuracy: 0.6800 - val_loss: 0.7291 - val_accuracy: 0.6533\n",
      "Epoch 46/50\n",
      "75/75 [==============================] - 0s 179us/step - loss: 0.7174 - accuracy: 0.6800 - val_loss: 0.7169 - val_accuracy: 0.6533\n",
      "Epoch 47/50\n",
      "75/75 [==============================] - 0s 162us/step - loss: 0.7080 - accuracy: 0.6800 - val_loss: 0.7097 - val_accuracy: 0.6533\n",
      "Epoch 48/50\n",
      "75/75 [==============================] - 0s 165us/step - loss: 0.7008 - accuracy: 0.6800 - val_loss: 0.7091 - val_accuracy: 0.6533\n",
      "Epoch 49/50\n",
      "75/75 [==============================] - 0s 138us/step - loss: 0.6954 - accuracy: 0.6800 - val_loss: 0.6958 - val_accuracy: 0.6533\n",
      "Epoch 50/50\n",
      "75/75 [==============================] - 0s 136us/step - loss: 0.6874 - accuracy: 0.6800 - val_loss: 0.6857 - val_accuracy: 0.6533\n"
     ]
    }
   ],
   "source": [
    "model_history = model.fit(X, Y, epochs=50,\n",
    "                    validation_data=(tes, target))"
   ]
  },
  {
   "cell_type": "markdown",
   "metadata": {
    "colab_type": "text",
    "id": "2EVgLsw2Yu0C"
   },
   "source": [
    "### Membuat Grafik"
   ]
  },
  {
   "cell_type": "code",
   "execution_count": 19,
   "metadata": {
    "colab": {
     "base_uri": "https://localhost:8080/",
     "height": 1000
    },
    "colab_type": "code",
    "id": "cV4ibuI_yFd4",
    "outputId": "72a5dd97-3732-4670-ad00-f24ce61c8043"
   },
   "outputs": [
    {
     "data": {
      "text/plain": [
       "{'val_loss': [1.0862527402242024,\n",
       "  1.0843139092127483,\n",
       "  1.079909513791402,\n",
       "  1.0783002583185832,\n",
       "  1.0750290473302206,\n",
       "  1.072000986735026,\n",
       "  1.0690942160288492,\n",
       "  1.0662272961934407,\n",
       "  1.0635526672999065,\n",
       "  1.0611035203933716,\n",
       "  1.0587456019719441,\n",
       "  1.0562300856908162,\n",
       "  1.0534899870554606,\n",
       "  1.0387217871348062,\n",
       "  1.0246260499954223,\n",
       "  1.001710603237152,\n",
       "  0.9875069808959961,\n",
       "  0.9715246868133545,\n",
       "  0.9655758905410766,\n",
       "  0.9479803347587585,\n",
       "  0.9373533415794373,\n",
       "  0.9268379433949788,\n",
       "  0.9161407446861267,\n",
       "  0.9072805937131246,\n",
       "  0.899688515663147,\n",
       "  0.8903398434321086,\n",
       "  0.8781680552164713,\n",
       "  0.8666761144002278,\n",
       "  0.8581567986806233,\n",
       "  0.8529321376482646,\n",
       "  0.8477006125450134,\n",
       "  0.833053453763326,\n",
       "  0.8204285454750061,\n",
       "  0.8117300426959991,\n",
       "  0.8056424252192179,\n",
       "  0.7947194651762645,\n",
       "  0.7866477457682292,\n",
       "  0.7811733738581339,\n",
       "  0.7711874282360077,\n",
       "  0.7632033336162567,\n",
       "  0.7573077841599782,\n",
       "  0.7503470782438914,\n",
       "  0.7414279691378276,\n",
       "  0.7326623678207398,\n",
       "  0.7291359639167786,\n",
       "  0.7169394485155741,\n",
       "  0.7096968535582224,\n",
       "  0.7090571979681651,\n",
       "  0.6957549420992534,\n",
       "  0.6857015101114908],\n",
       " 'val_accuracy': [0.36000001430511475,\n",
       "  0.3466666638851166,\n",
       "  0.47999998927116394,\n",
       "  0.3466666638851166,\n",
       "  0.3466666638851166,\n",
       "  0.3466666638851166,\n",
       "  0.3466666638851166,\n",
       "  0.3466666638851166,\n",
       "  0.3466666638851166,\n",
       "  0.3466666638851166,\n",
       "  0.3466666638851166,\n",
       "  0.3466666638851166,\n",
       "  0.3733333349227905,\n",
       "  0.3466666638851166,\n",
       "  0.3333333432674408,\n",
       "  0.3333333432674408,\n",
       "  0.3333333432674408,\n",
       "  0.3333333432674408,\n",
       "  0.3333333432674408,\n",
       "  0.3333333432674408,\n",
       "  0.3333333432674408,\n",
       "  0.3333333432674408,\n",
       "  0.3466666638851166,\n",
       "  0.4533333480358124,\n",
       "  0.54666668176651,\n",
       "  0.46666666865348816,\n",
       "  0.5066666603088379,\n",
       "  0.6266666650772095,\n",
       "  0.5733333230018616,\n",
       "  0.5199999809265137,\n",
       "  0.653333306312561,\n",
       "  0.6133333444595337,\n",
       "  0.653333306312561,\n",
       "  0.653333306312561,\n",
       "  0.653333306312561,\n",
       "  0.653333306312561,\n",
       "  0.653333306312561,\n",
       "  0.653333306312561,\n",
       "  0.653333306312561,\n",
       "  0.653333306312561,\n",
       "  0.653333306312561,\n",
       "  0.653333306312561,\n",
       "  0.653333306312561,\n",
       "  0.653333306312561,\n",
       "  0.653333306312561,\n",
       "  0.653333306312561,\n",
       "  0.653333306312561,\n",
       "  0.653333306312561,\n",
       "  0.653333306312561,\n",
       "  0.653333306312561],\n",
       " 'loss': [1.0911673069000245,\n",
       "  1.1029759168624877,\n",
       "  1.0878620704015096,\n",
       "  1.0840551074345905,\n",
       "  1.0821549288431804,\n",
       "  1.0790710751215618,\n",
       "  1.0755029185612996,\n",
       "  1.072455849647522,\n",
       "  1.0697333478927613,\n",
       "  1.067589562733968,\n",
       "  1.0659329811731975,\n",
       "  1.0625389655431112,\n",
       "  1.059836090405782,\n",
       "  1.0552732133865357,\n",
       "  1.0369253889719645,\n",
       "  1.023847484588623,\n",
       "  0.9997356661160787,\n",
       "  0.983748749891917,\n",
       "  0.9704118808110554,\n",
       "  0.9612913799285888,\n",
       "  0.9463707947731018,\n",
       "  0.9362265006701151,\n",
       "  0.924426273504893,\n",
       "  0.914616900285085,\n",
       "  0.9053055953979492,\n",
       "  0.895955368677775,\n",
       "  0.8872174557050069,\n",
       "  0.8740484857559204,\n",
       "  0.8636873881022136,\n",
       "  0.8534451333681742,\n",
       "  0.8429299894968668,\n",
       "  0.8439163025220235,\n",
       "  0.8239461525281271,\n",
       "  0.8142771244049072,\n",
       "  0.8068413551648458,\n",
       "  0.7985841345787048,\n",
       "  0.7878570294380188,\n",
       "  0.7797758714358012,\n",
       "  0.7740765039126078,\n",
       "  0.763926826318105,\n",
       "  0.7565145564079284,\n",
       "  0.7474784851074219,\n",
       "  0.7414269804954529,\n",
       "  0.7343987758954366,\n",
       "  0.7236022726694743,\n",
       "  0.7173729070027669,\n",
       "  0.7080355286598206,\n",
       "  0.7007915115356446,\n",
       "  0.6953764947255453,\n",
       "  0.687370818456014],\n",
       " 'accuracy': [0.4,\n",
       "  0.37333333,\n",
       "  0.33333334,\n",
       "  0.28,\n",
       "  0.32,\n",
       "  0.32,\n",
       "  0.32,\n",
       "  0.32,\n",
       "  0.32,\n",
       "  0.32,\n",
       "  0.32,\n",
       "  0.32,\n",
       "  0.32,\n",
       "  0.24,\n",
       "  0.32,\n",
       "  0.33333334,\n",
       "  0.33333334,\n",
       "  0.33333334,\n",
       "  0.33333334,\n",
       "  0.33333334,\n",
       "  0.33333334,\n",
       "  0.33333334,\n",
       "  0.34666666,\n",
       "  0.4,\n",
       "  0.48,\n",
       "  0.62666667,\n",
       "  0.5733333,\n",
       "  0.53333336,\n",
       "  0.6533333,\n",
       "  0.6533333,\n",
       "  0.5733333,\n",
       "  0.6533333,\n",
       "  0.6666667,\n",
       "  0.68,\n",
       "  0.68,\n",
       "  0.68,\n",
       "  0.68,\n",
       "  0.68,\n",
       "  0.68,\n",
       "  0.68,\n",
       "  0.68,\n",
       "  0.68,\n",
       "  0.68,\n",
       "  0.68,\n",
       "  0.68,\n",
       "  0.68,\n",
       "  0.68,\n",
       "  0.68,\n",
       "  0.68,\n",
       "  0.68]}"
      ]
     },
     "execution_count": 19,
     "metadata": {},
     "output_type": "execute_result"
    }
   ],
   "source": [
    "model_history.history"
   ]
  },
  {
   "cell_type": "code",
   "execution_count": 20,
   "metadata": {
    "colab": {
     "base_uri": "https://localhost:8080/",
     "height": 324
    },
    "colab_type": "code",
    "id": "dCVOzoppyHtb",
    "outputId": "6be75681-170b-4e36-b664-3c747aba1c3c"
   },
   "outputs": [
    {
     "data": {
      "image/png": "[encoded data removed]",
      "text/plain": [
       "<Figure size 576x360 with 1 Axes>"
      ]
     },
     "metadata": {
      "needs_background": "light"
     },
     "output_type": "display_data"
    }
   ],
   "source": [
    "import pandas as pd\n",
    "import matplotlib as mpl\n",
    "import matplotlib.pyplot as plt\n",
    "pd.DataFrame(model_history.history).plot(figsize=(8, 5))\n",
    "plt.grid(True)\n",
    "plt.gca().set_ylim(0, 1)\n",
    "plt.show()\n"
   ]
  },
  {
   "cell_type": "code",
   "execution_count": 21,
   "metadata": {
    "colab": {
     "base_uri": "https://localhost:8080/",
     "height": 1000
    },
    "colab_type": "code",
    "id": "oo_Nh5lPRnzF",
    "outputId": "a8941ec8-04b9-4c17-fb6a-5090a31f039a"
   },
   "outputs": [
    {
     "data": {
      "text/plain": [
       "array([[0.57, 0.08, 0.35]], dtype=float32)"
      ]
     },
     "execution_count": 21,
     "metadata": {},
     "output_type": "execute_result"
    }
   ],
   "source": [
    "uji=model.predict(tes[1:2,:])\n",
    "uji.round(2)\n"
   ]
  },
  {
   "cell_type": "code",
   "execution_count": 22,
   "metadata": {
    "colab": {
     "base_uri": "https://localhost:8080/",
     "height": 52
    },
    "colab_type": "code",
    "id": "0ekJELzzUy28",
    "outputId": "ba3f337f-7765-4ad4-daa3-2657d8aa4c31"
   },
   "outputs": [
    {
     "name": "stdout",
     "output_type": "stream",
     "text": [
      "75/75 [==============================] - 0s 50us/step\n"
     ]
    },
    {
     "data": {
      "text/plain": [
       "[0.6857015101114908, 0.653333306312561]"
      ]
     },
     "execution_count": 22,
     "metadata": {},
     "output_type": "execute_result"
    }
   ],
   "source": [
    "model.evaluate(tes,target)"
   ]
  },
  {
   "cell_type": "markdown",
   "metadata": {
    "colab_type": "text",
    "id": "wTh8rgrHU5SO"
   },
   "source": [
    "### Save hasil training"
   ]
  },
  {
   "cell_type": "code",
   "execution_count": 23,
   "metadata": {
    "colab": {
     "base_uri": "https://localhost:8080/",
     "height": 35
    },
    "colab_type": "code",
    "id": "w_CGgFC3UbrG",
    "outputId": "ae7f9941-e3fe-4f5f-babf-78870b839a8c"
   },
   "outputs": [
    {
     "name": "stdout",
     "output_type": "stream",
     "text": [
      "Saved model to disk\n"
     ]
    }
   ],
   "source": [
    "from keras.models import model_from_yaml\n",
    "# serialize model to YAML\n",
    "model_yaml = model.to_yaml()\n",
    "with open(\"model.yaml\", \"w\") as yaml_file:\n",
    "    yaml_file.write(model_yaml)\n",
    "# serialize weights to HDF5\n",
    "model.save_weights(\"model.h5\")\n",
    "print(\"Saved model to disk\")"
   ]
  }
 ],
 "metadata": {
  "accelerator": "GPU",
  "colab": {
   "collapsed_sections": [],
   "name": "jST_IRIS_Training.ipynb",
   "provenance": []
  },
  "kernelspec": {
   "display_name": "Python 3",
   "language": "python",
   "name": "python3"
  },
  "language_info": {
   "codemirror_mode": {
    "name": "ipython",
    "version": 3
   },
   "file_extension": ".py",
   "mimetype": "text/x-python",
   "name": "python",
   "nbconvert_exporter": "python",
   "pygments_lexer": "ipython3",
   "version": "3.7.6"
  }
 },
 "nbformat": 4,
 "nbformat_minor": 1
}
