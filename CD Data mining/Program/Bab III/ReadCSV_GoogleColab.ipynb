{
  "nbformat": 4,
  "nbformat_minor": 0,
  "metadata": {
    "colab": {
      "name": "ReadCSV-GoogleColab",
      "provenance": []
    },
    "kernelspec": {
      "name": "python3",
      "display_name": "Python 3"
    }
  },
  "cells": [
    {
      "cell_type": "code",
      "metadata": {
        "id": "d0yc32bpULz7",
        "colab_type": "code",
        "outputId": "74ec91e6-f977-4548-fa9b-433f9d93be71",
        "colab": {
          "base_uri": "https://localhost:8080/",
          "height": 119
        }
      },
      "source": [
        "from google.colab import files\n",
        "import pandas as pd\n",
        "data=pd.read_csv(\"beasiswa.csv\")\n",
        "print(data.head())"
      ],
      "execution_count": 0,
      "outputs": [
        {
          "output_type": "stream",
          "text": [
            "   Mahasiswa  IPK  Tingkat Kemiskinan (TM)  Beasiswa/Tidak\n",
            "0          1  0.8                      0.8             0.0\n",
            "1          2  1.2                      1.0             0.0\n",
            "2          3  1.0                      1.2             0.0\n",
            "3          4  2.0                      1.5             0.0\n",
            "4          5  0.7                      1.5             0.0\n"
          ],
          "name": "stdout"
        }
      ]
    }
  ]
}