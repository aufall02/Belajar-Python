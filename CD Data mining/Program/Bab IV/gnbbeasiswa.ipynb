{
 "cells": [
  {
   "cell_type": "code",
   "execution_count": 1,
   "metadata": {},
   "outputs": [],
   "source": [
    "#Impor pustaka\n",
    "import pandas as pd\n",
    "import numpy as np\n",
    "import matplotlib.pyplot as plt\n",
    "from sklearn import datasets\n",
    "from sklearn.naive_bayes import GaussianNB\n",
    "from sklearn.metrics import accuracy_score\n",
    "from sklearn.metrics import classification_report"
   ]
  },
  {
   "cell_type": "code",
   "execution_count": 2,
   "metadata": {},
   "outputs": [],
   "source": [
    "#Mengambil data dari file csv\n",
    "datasiswa=pd.read_csv('beasiswa.csv')\n",
    "df=pd.DataFrame(datasiswa,columns=['Mahasiswa','IPK','Tingkat Kemiskinan (TM)','Beasiswa/Tidak'])\n",
    "X=np.asarray(datasiswa)\n",
    "x_train=X[:,1:3]\n",
    "y_train=X[:,3:4]\n",
    "#Mengambil data validasi\n",
    "datavalidasi=pd.read_csv('validasibeasiswa.csv')\n",
    "df2=pd.DataFrame(datasiswa,columns=['Mahasiswa','IPK','Tingkat Kemiskinan (TM)','Beasiswa/Tidak'])\n",
    "X2=np.asarray(datavalidasi)\n",
    "x_val=X2[:,1:3]\n",
    "y_val=X2[:,3:4]"
   ]
  },
  {
   "cell_type": "code",
   "execution_count": 3,
   "metadata": {},
   "outputs": [
    {
     "name": "stderr",
     "output_type": "stream",
     "text": [
      "C:\\Users\\Asus\\Anaconda3\\envs\\tensorflow\\lib\\site-packages\\sklearn\\naive_bayes.py:206: DataConversionWarning: A column-vector y was passed when a 1d array was expected. Please change the shape of y to (n_samples, ), for example using ravel().\n",
      "  y = column_or_1d(y, warn=True)\n"
     ]
    },
    {
     "data": {
      "text/plain": [
       "GaussianNB(priors=None, var_smoothing=1e-09)"
      ]
     },
     "execution_count": 3,
     "metadata": {},
     "output_type": "execute_result"
    }
   ],
   "source": [
    "#Memanggil GNB\n",
    "gnb = GaussianNB()\n",
    "#Fit model dengan data latih dan target/label\n",
    "gnb.fit(x_train,y_train)"
   ]
  },
  {
   "cell_type": "code",
   "execution_count": 4,
   "metadata": {},
   "outputs": [
    {
     "name": "stdout",
     "output_type": "stream",
     "text": [
      "[[0. 0. 0. 1. 1. 1. 1.]]\n",
      "[0. 0. 0. 1. 1. 1. 1.]\n",
      "              precision    recall  f1-score   support\n",
      "\n",
      "         0.0       1.00      1.00      1.00         3\n",
      "         1.0       1.00      1.00      1.00         4\n",
      "\n",
      "    accuracy                           1.00         7\n",
      "   macro avg       1.00      1.00      1.00         7\n",
      "weighted avg       1.00      1.00      1.00         7\n",
      "\n"
     ]
    }
   ],
   "source": [
    "#Prediksi\n",
    "y_pred=gnb.predict(x_val)\n",
    "print((y_val).T)\n",
    "print(y_pred)\n",
    "print(classification_report(y_val,y_pred))"
   ]
  },
  {
   "cell_type": "code",
   "execution_count": 5,
   "metadata": {},
   "outputs": [
    {
     "data": {
      "image/png": "[encoded data removed]",
      "text/plain": [
       "<Figure size 432x288 with 1 Axes>"
      ]
     },
     "metadata": {
      "needs_background": "light"
     },
     "output_type": "display_data"
    }
   ],
   "source": [
    "#Visualisasi Data\n",
    "#plot Data Latih\n",
    "absis=[x_train[:,0]]\n",
    "ordinat=[x_train[:,1]]\n",
    "target=[X[:,3]]\n",
    "plt.scatter(absis, ordinat, alpha=2, c=target, cmap='flag', marker='+')\n",
    "#plot Data Uji\n",
    "absis=[x_val[:,0]]\n",
    "ordinat=[x_val[:,1]]\n",
    "target=[X2[:,3]]\n",
    "plt.scatter(absis, ordinat, alpha=2, c=target, cmap='flag', marker='x')\n",
    "#Label\n",
    "plt.xlabel(\"IPK\")\n",
    "plt.ylabel(\"Tingkat Kemiskinan)\")\n",
    "plt.title(\"Naive Bayes Classification\")\n",
    "plt.grid()"
   ]
  },
  {
   "cell_type": "code",
   "execution_count": 6,
   "metadata": {},
   "outputs": [
    {
     "name": "stdout",
     "output_type": "stream",
     "text": [
      "[1.]\n"
     ]
    }
   ],
   "source": [
    "data=[[3.3,1.5]]\n",
    "prediksi=gnb.predict(data)\n",
    "print(prediksi)"
   ]
  },
  {
   "cell_type": "code",
   "execution_count": 7,
   "metadata": {},
   "outputs": [
    {
     "name": "stdout",
     "output_type": "stream",
     "text": [
      "1.0\n"
     ]
    }
   ],
   "source": [
    "#Mengambil data testing\n",
    "datatest=pd.read_csv('testbeasiswa.csv')\n",
    "df3=pd.DataFrame(datasiswa,columns=['Mahasiswa','IPK','Tingkat Kemiskinan (TM)','Beasiswa/Tidak'])\n",
    "X3=np.asarray(datatest)\n",
    "x_test=X3[:,1:3]\n",
    "y_test=X3[:,3:4]\n",
    "#Prediksi\n",
    "y_prediksitest=gnb.predict(x_val)\n",
    "print(accuracy_score(y_test,y_prediksitest))"
   ]
  },
  {
   "cell_type": "code",
   "execution_count": 8,
   "metadata": {},
   "outputs": [],
   "source": [
    "m=X[:,3]"
   ]
  },
  {
   "cell_type": "code",
   "execution_count": 9,
   "metadata": {},
   "outputs": [
    {
     "data": {
      "text/plain": [
       "(11,)"
      ]
     },
     "execution_count": 9,
     "metadata": {},
     "output_type": "execute_result"
    }
   ],
   "source": [
    "m.shape"
   ]
  }
 ],
 "metadata": {
  "kernelspec": {
   "display_name": "Python 3",
   "language": "python",
   "name": "python3"
  },
  "language_info": {
   "codemirror_mode": {
    "name": "ipython",
    "version": 3
   },
   "file_extension": ".py",
   "mimetype": "text/x-python",
   "name": "python",
   "nbconvert_exporter": "python",
   "pygments_lexer": "ipython3",
   "version": "3.7.6"
  }
 },
 "nbformat": 4,
 "nbformat_minor": 4
}
