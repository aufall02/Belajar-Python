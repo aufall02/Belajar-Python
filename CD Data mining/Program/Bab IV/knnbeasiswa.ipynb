{
 "cells": [
  {
   "cell_type": "code",
   "execution_count": 1,
   "metadata": {},
   "outputs": [],
   "source": [
    "#Impor pustaka\n",
    "import pandas as pd\n",
    "import numpy as np\n",
    "import matplotlib.pyplot as plt\n",
    "from sklearn import datasets\n",
    "from sklearn.neighbors import KNeighborsClassifier\n",
    "from sklearn.metrics import accuracy_score\n",
    "from sklearn.metrics import classification_report"
   ]
  },
  {
   "cell_type": "code",
   "execution_count": 2,
   "metadata": {},
   "outputs": [],
   "source": [
    "#Mengambil data dari file csv\n",
    "datasiswa=pd.read_csv('beasiswa.csv')\n",
    "df=pd.DataFrame(datasiswa,columns=['Mahasiswa','IPK','Tingkat Kemiskinan (TM)','Beasiswa/Tidak'])\n",
    "X=np.asarray(datasiswa)\n",
    "x_train=X[:,1:3]\n",
    "y_train=X[:,3:4]"
   ]
  },
  {
   "cell_type": "code",
   "execution_count": 3,
   "metadata": {},
   "outputs": [
    {
     "name": "stderr",
     "output_type": "stream",
     "text": [
      "C:\\Users\\Asus\\Anaconda3\\envs\\tensorflow\\lib\\site-packages\\ipykernel_launcher.py:7: DataConversionWarning: A column-vector y was passed when a 1d array was expected. Please change the shape of y to (n_samples, ), for example using ravel().\n",
      "  import sys\n"
     ]
    },
    {
     "data": {
      "text/plain": [
       "KNeighborsClassifier(algorithm='auto', leaf_size=30, metric='euclidean',\n",
       "                     metric_params=None, n_jobs=None, n_neighbors=6, p=2,\n",
       "                     weights='uniform')"
      ]
     },
     "execution_count": 3,
     "metadata": {},
     "output_type": "execute_result"
    }
   ],
   "source": [
    "#Memanggil KNN\n",
    "knn=KNeighborsClassifier(n_neighbors=6,\n",
    "                        weights='uniform',\n",
    "                        algorithm='auto',\n",
    "                        metric='euclidean')\n",
    "#Fit model dengan data latih dan target/label\n",
    "knn.fit(x_train,y_train)"
   ]
  },
  {
   "cell_type": "code",
   "execution_count": 4,
   "metadata": {},
   "outputs": [
    {
     "name": "stdout",
     "output_type": "stream",
     "text": [
      "[[0. 0. 0. 1. 1. 1. 1.]]\n",
      "[0. 0. 0. 1. 1. 1. 1.]\n",
      "              precision    recall  f1-score   support\n",
      "\n",
      "         0.0       1.00      1.00      1.00         3\n",
      "         1.0       1.00      1.00      1.00         4\n",
      "\n",
      "    accuracy                           1.00         7\n",
      "   macro avg       1.00      1.00      1.00         7\n",
      "weighted avg       1.00      1.00      1.00         7\n",
      "\n"
     ]
    }
   ],
   "source": [
    "#Mengambil data dari file csv\n",
    "datavalidasi=pd.read_csv('validasibeasiswa.csv')\n",
    "df2=pd.DataFrame(datasiswa,columns=['Mahasiswa','IPK','Tingkat Kemiskinan (TM)','Beasiswa/Tidak'])\n",
    "X2=np.asarray(datavalidasi)\n",
    "x_val=X2[:,1:3]\n",
    "y_val=X2[:,3:4]\n",
    "#Prediksi\n",
    "y_pred=knn.predict(x_val)\n",
    "print((y_val).T)\n",
    "print(y_pred)\n",
    "print(classification_report(y_val,y_pred))"
   ]
  },
  {
   "cell_type": "code",
   "execution_count": 5,
   "metadata": {},
   "outputs": [
    {
     "data": {
      "image/png": "[encoded data removed]",
      "text/plain": [
       "<Figure size 432x288 with 1 Axes>"
      ]
     },
     "metadata": {
      "needs_background": "light"
     },
     "output_type": "display_data"
    }
   ],
   "source": [
    "#Visualisasi Data\n",
    "#plot Data Latih\n",
    "absis=[x_train[:,0]]\n",
    "ordinat=[x_train[:,1]]\n",
    "target=[X[:,3]]\n",
    "plt.scatter(absis, ordinat, alpha=2, c=target, cmap='flag', marker='+')\n",
    "#plot Data Uji\n",
    "absis=[x_val[:,0]]\n",
    "ordinat=[x_val[:,1]]\n",
    "target=[X2[:,3]]\n",
    "plt.scatter(absis, ordinat, alpha=2, c=target, cmap='flag', marker='x')\n",
    "#Label\n",
    "plt.xlabel(\"IPK\")\n",
    "plt.ylabel(\"Tingkat Kemiskinan)\")\n",
    "plt.title(\"KNN Classification\")\n",
    "plt.grid()"
   ]
  },
  {
   "cell_type": "code",
   "execution_count": 6,
   "metadata": {},
   "outputs": [
    {
     "name": "stdout",
     "output_type": "stream",
     "text": [
      "[1.]\n"
     ]
    }
   ],
   "source": [
    "data=[[3.3,1.5]]\n",
    "prediksi=knn.predict(data)\n",
    "print(prediksi)"
   ]
  },
  {
   "cell_type": "code",
   "execution_count": null,
   "metadata": {},
   "outputs": [],
   "source": []
  }
 ],
 "metadata": {
  "kernelspec": {
   "display_name": "Python 3",
   "language": "python",
   "name": "python3"
  },
  "language_info": {
   "codemirror_mode": {
    "name": "ipython",
    "version": 3
   },
   "file_extension": ".py",
   "mimetype": "text/x-python",
   "name": "python",
   "nbconvert_exporter": "python",
   "pygments_lexer": "ipython3",
   "version": "3.7.6"
  }
 },
 "nbformat": 4,
 "nbformat_minor": 4
}
