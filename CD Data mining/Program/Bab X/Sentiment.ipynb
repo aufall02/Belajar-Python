{
 "cells": [
  {
   "cell_type": "code",
   "execution_count": 3,
   "metadata": {
    "colab": {
     "base_uri": "https://localhost:8080/",
     "height": 191
    },
    "colab_type": "code",
    "id": "ZUGDk99aSA3j",
    "outputId": "8a957257-a6d1-432e-fe23-43a98902c7dd"
   },
   "outputs": [
    {
     "name": "stderr",
     "output_type": "stream",
     "text": [
      "[nltk_data] Downloading package movie_reviews to\n",
      "[nltk_data]     C:\\Users\\Asus\\AppData\\Roaming\\nltk_data...\n",
      "[nltk_data]   Package movie_reviews is already up-to-date!\n"
     ]
    },
    {
     "name": "stdout",
     "output_type": "stream",
     "text": [
      "Number of training datapoints:\n",
      "Number of test datapoints:\n",
      "\n",
      "Accuracy of the classifier:\n",
      "\n",
      "Predictions:\n",
      "Predicted sentiment: Negative\n",
      "Probability:  0.89\n"
     ]
    }
   ],
   "source": [
    "#impor pustaka\n",
    "import nltk.classify.util\n",
    "from nltk.classify import NaiveBayesClassifier\n",
    "nltk.download('movie_reviews')\n",
    "from nltk.corpus import movie_reviews\n",
    "##Langkah 2: Membuat fungsi extract features:\n",
    "def extract_features(word_list):\n",
    "    return dict([(word, True) for word in word_list])\n",
    "##Langkah 3: Training data dari movie reviews dari NLTK:\n",
    "if __name__=='__main__':\n",
    "   # Load positive and negative reviews  \n",
    "   positive_fileids = movie_reviews.fileids('pos')\n",
    "   negative_fileids = movie_reviews.fileids('neg')\n",
    "##Langkah 4: Memisahkan fitur positif dan negatif:\n",
    "features_positive = [(extract_features(movie_reviews.words(fileids=[f])), \n",
    "           'Positive') for f in positive_fileids]\n",
    "features_negative = [(extract_features(movie_reviews.words(fileids=[f])), \n",
    "           'Negative') for f in negative_fileids]\n",
    "##Langkah 5: Membagi data menjadi data latih dan data uji:\n",
    "# Perbandingan data latih/data uji = (80/20)\n",
    "threshold_factor = 0.8\n",
    "threshold_positive = int(threshold_factor * len(features_positive))\n",
    "threshold_negative = int(threshold_factor * len(features_negative))\n",
    "##Langkah 6: Extract features:\n",
    "features_train = features_positive[:threshold_positive] + features_negative[:threshold_negative]\n",
    "features_test = features_positive[threshold_positive:] + features_negative[threshold_negative:]  \n",
    "print(\"Number of training datapoints:\"), len(features_train)\n",
    "print(\"Number of test datapoints:\"), len(features_test)\n",
    "##Langkah 7: Pelatihan dengan Naive Bayes\n",
    "classifier = NaiveBayesClassifier.train(features_train)\n",
    "print (\"\\nAccuracy of the classifier:\"), nltk.classify.util.accuracy(classifier, features_test)\n",
    "##Langkah 8: Menyiapkan data yang akan dicek sentiment-nya\n",
    "# Bersihkan data dari simbol-simbol xml, masukan dengan format berikut:\n",
    "input_reviews = [\n",
    "\n",
    "\"Regent of Geram, Hall of toilet Cultural Facilities Stolen People After getting the chance, the perpetrators immediately carried out the action\",\n",
    "\"Because of his actions, the perpetrators of these #fts\",\n",
    "\"Theatrics Buy Onions Using Yamaha NMAX Motorbike, Housewives in Balikpapan Steal This Item\",\n",
    "\"2 Days Acquaintance, Motor Directly Stolen #nusabali #Curanmor #Theft #PoldaBali\",\n",
    "\"The perpetrators of the theft who used to act at the Aloie Soboe Hospital (RSAS) Gorontalo City, were finally caught. The perpetrators\",\n",
    "\"In the dark, the mosque's charity box has been disputed ...\",\n",
    "\"Charity Box Thieves at BIB Lembang Mosque Caught\",\n",
    "\"CCTV cameras record armed thieves who stole motorbikes in a boarding house at Jalan Pramuka, Rajabasa\",\n",
    "\"In the dark, the mosque's charity box has been disputed ...\",\n",
    "\"SM (50) and KS (57) who are elderly citizens in Banjarnegara, Central Java had to be secured by the police\",\n",
    "\"A video showing the suspected theft of a light bulb was returned to viral in Medan. Police said they would take action\",\n",
    "\"We know there is theft in our house when we see the conditions in the house and us\",\n",
    "\"The theft of motorbike perpetrators was carried out in a mosque, Perumahan Wanajaya, Cibitung, West Bekasi, Regency\",\n",
    "\"Ahmad Rifki Kalyubi (25) was almost beaten up by residents after being caught stealing a motorcycle in Syahrul's house\",\n",
    "\"Nglegok Sub-District residents on Tuesday 4 February 2020 were arrested by the Kanigoro District Police Station,\"\n",
    "]\n",
    "##Langkah 9: Run the classifier on those input sentences and obtain the predictions:\n",
    "print (\"\\nPredictions:\")\n",
    "for review in input_reviews:\n",
    "       #print (\"\\nTweet:\")\n",
    "       probdist = classifier.prob_classify(extract_features(review.split()))\n",
    "       #print(probdist)\n",
    "       pred_sentiment = probdist.max()\n",
    "##Langkah 11: Print the output:\n",
    "print (\"Predicted sentiment:\",pred_sentiment) \n",
    "prob=round(probdist.prob(pred_sentiment), 2)\n",
    "print (\"Probability: \", prob)"
   ]
  }
 ],
 "metadata": {
  "colab": {
   "collapsed_sections": [],
   "name": "Sentiment.ipynb",
   "provenance": []
  },
  "kernelspec": {
   "display_name": "Python 3",
   "language": "python",
   "name": "python3"
  },
  "language_info": {
   "codemirror_mode": {
    "name": "ipython",
    "version": 3
   },
   "file_extension": ".py",
   "mimetype": "text/x-python",
   "name": "python",
   "nbconvert_exporter": "python",
   "pygments_lexer": "ipython3",
   "version": "3.7.6"
  }
 },
 "nbformat": 4,
 "nbformat_minor": 1
}
