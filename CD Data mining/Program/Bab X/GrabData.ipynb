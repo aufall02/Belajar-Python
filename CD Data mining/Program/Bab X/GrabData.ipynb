{
 "cells": [
  {
   "cell_type": "code",
   "execution_count": 0,
   "metadata": {
    "colab": {
     "base_uri": "https://localhost:8080/",
     "height": 470
    },
    "colab_type": "code",
    "id": "7dk5JDE9owTs",
    "outputId": "4472ebf8-f006-4f0c-9eb9-d0539f99b5b5"
   },
   "outputs": [
    {
     "name": "stdout",
     "output_type": "stream",
     "text": [
      "[('RT @detikcom: Desi tega membunuh bayinya sendiri lalu membuangnya karena takut dikira selingkuh. Padahal, bayi tersebut merupakan hasil per…',), ('RT @detikcom: Desi tega membunuh bayinya sendiri lalu membuangnya karena takut dikira selingkuh. Padahal, bayi tersebut merupakan hasil per…',), ('RT @detikcom: Desi tega membunuh bayinya sendiri lalu membuangnya karena takut dikira selingkuh. Padahal, bayi tersebut merupakan hasil per…',), ('Desi tega membunuh bayinya sendiri lalu membuangnya karena takut dikira selingkuh. Padahal, bayi tersebut merupakan… https://t.co/XK4ZXcKJmI',), ('RT @detikcom: Jaksa menuntut Sugeng Santoso dengan penjara seumur hidup. Ia merupakan terdakwa kasus pembunuhan dan mutilasi di Malang. #Mu…',), ('RT @detikcom: Jaksa menuntut Sugeng Santoso dengan penjara seumur hidup. Ia merupakan terdakwa kasus pembunuhan dan mutilasi di Malang. #Mu…',), ('RT @detikcom: Jaksa menuntut Sugeng Santoso dengan penjara seumur hidup. Ia merupakan terdakwa kasus pembunuhan dan mutilasi di Malang. #Mu…',), ('Jaksa menuntut Sugeng Santoso dengan penjara seumur hidup. Ia merupakan terdakwa kasus pembunuhan dan mutilasi di M… https://t.co/Jxg4CVdJkN',), ('RT @serambinews: #SuamiBunuhIstri\\n#Pembunuhan\\n\\nNyawa istri tua melayang akibat iri dengan nasib istri muda yang hidup berkecukupan tanpa an…',), ('@HONGERSPELENs @ravienjuly @7thMESCHACH #fitnah lebih kejam daripada #pembunuhan',), ('RT @RichardFangohoi: Polres Minahasa Menggelar Rekonstruksi Pembunuhan di Tombasian Atas https://t.co/8fBZsFTgQu\\n\\n@detikmanadocom \\n#Krimina…',), ('Polres Minahasa Menggelar Rekonstruksi Pembunuhan di Tombasian Atas https://t.co/8fBZsFTgQu\\n\\n@detikmanadocom… https://t.co/4YOF60QAVL',), ('26 Adegan Diperegakan dalam Rekonstruksi Pembunuhan Istri Siri di Berau Kalimantan Timur https://t.co/LfrepHKy94… https://t.co/WJeCWxPpc9',), ('Polisi Buka 10 CCTV untuk Lacak Pembunuh Sopir Grab Kudus\\n#Kudus #CCTV #pembunuhan #SopirGrab @murianewscom https://t.co/Kmo2YZT9bY',), ('RT @detikcom: Eksekutor pembunuh mertua Sekkab Lamongan mengaku membunuh karena dijanjikan Rp 200 juta. Namun si eksekutor baru menerima ua…',), ('RT @detikcom: Eksekutor pembunuh mertua Sekkab Lamongan mengaku membunuh karena dijanjikan Rp 200 juta. Namun si eksekutor baru menerima ua…',), ('RT @detikcom: Seorang menantu di Bima, NTB, tega membunuh ayah mertuanya sendiri dengan cara membacoknya menggunakan senjata tajam jenis pa…',), ('Eksekutor pembunuh mertua Sekkab Lamongan mengaku membunuh karena dijanjikan Rp 200 juta. Namun si eksekutor baru m… https://t.co/dUJxPLtpXb',), ('RT @detikcom: Seorang menantu di Bima, NTB, tega membunuh ayah mertuanya sendiri dengan cara membacoknya menggunakan senjata tajam jenis pa…',), ('RT @detikcom: Seorang menantu di Bima, NTB, tega membunuh ayah mertuanya sendiri dengan cara membacoknya menggunakan senjata tajam jenis pa…',), ('Seorang menantu di Bima, NTB, tega membunuh ayah mertuanya sendiri dengan cara membacoknya menggunakan senjata taja… https://t.co/oyu3mEEPiq',), ('RT @detikcom: Motif pembunuhan terhadap ibu mertua Sekkab Lamongan, Hj Rowaini akhirnya terungkap. Simak penjelasannya: #Pembunuhan #Lamong…',), ('RT @detikcom: Motif pembunuhan terhadap ibu mertua Sekkab Lamongan, Hj Rowaini akhirnya terungkap. Simak penjelasannya: #Pembunuhan #Lamong…',), ('Kesal diatur istri, seorang suami di Lampung tega merencanakan dan membunuh istrinya dengan modus pembegalan. GAL… https://t.co/wsRRCF3KdI',), ('Motif pembunuhan terhadap ibu mertua Sekkab Lamongan, Hj Rowaini akhirnya terungkap. Simak penjelasannya:… https://t.co/EDo4MBZ773',), ('RT @detikcom: 3 pembantu Aulia Kesuma, yakni Karsini, Rody Pradana dan Supriyanto didakwa memberi sarana pembunuhan berencana terhadap Pupu…',), ('3 pembantu Aulia Kesuma, yakni Karsini, Rody Pradana dan Supriyanto didakwa memberi sarana pembunuhan berencana ter… https://t.co/vZ98YiKaFQ',), ('Pelaku pembunuhan terhadap Hj Rowaini, ibu mertua Sekretaris Daerah (Sekda) Lamongan, Jawa Timur (Jatim) terancam h… https://t.co/VCXU9EEups',), ('Kasus pembunuhan sadis terhadap ibu rumah tangga yang mayatnya ditemukan di areal perkebunan jagung Desa Umbul Kapu… https://t.co/Ft2LNNeFsF',), ('Polisi mengamankan 2 pelaku pembunuhan mertua Sekretaris Kabupaten Lamongan, Hj Rowaini. Mereka adalah otak dan eks… https://t.co/5vOe6S1kmU',), ('Darmawan, warga Jalan Kemajuan, Macini Parang, Kota Makassar, Sulawesi Selatan, diamankan Kepolisian Polda Sulawesi… https://t.co/nuzw6X64Be',), ('Kemudian terungkap bahwa mantan istrinya adalah pembunuh #pelacur dan telah merekam #pembunuhan setelah #mayatmayat… https://t.co/i7ARlJlTmx',), ('Kasus pembunuhan sadis terhadap ibu rumah tangga yang mayatnya ditemukan di areal perkebunan jagung Desa Umbul Kapu… https://t.co/S27a1xdjEl',), ('RT @detikcom: Napi Lapas Banceuy Muhammad Robi yang menganiaya rekan sekamarnya Gilang Romadhoni hingga tewas diproses hukum. Robi dipindah…',), ('Napi Lapas Banceuy Muhammad Robi yang menganiaya rekan sekamarnya Gilang Romadhoni hingga tewas diproses hukum. Rob… https://t.co/yrDkdpoYXQ',), ('Mawan (36) tega membunuh temannya Ali Sukri (36) karena merasa cemburu. Marwan curiga Ali pernah mempunyai hubungan… https://t.co/VRq60mJjsM',), ('Tim Joko Tingkir Polres Lamongan menangkap eksekutor dan Otak pembunuhan ibu mertua Sekda Lamongan, Hj Rowaeni (68)… https://t.co/6fRpFmna9a',), ('Terungkap..! Ini 3 Fakta Kasus Pembunuh Perempuan Nyaris Bugil dalam Karung Goni https://t.co/scygea3qMB #Pembunuhan',), ('RT @detikcom: Pelaku pembunuhan kepala desa Alue Kaol, Rantau Selamat, Aceh Timur, dibekuk setelah 4 tahun buron. Polisi menembak kaki pela…',), ('RT @detikcom: Pelaku pembunuhan kepala desa Alue Kaol, Rantau Selamat, Aceh Timur, dibekuk setelah 4 tahun buron. Polisi menembak kaki pela…',), ('RT @detikcom: Pelaku pembunuhan kepala desa Alue Kaol, Rantau Selamat, Aceh Timur, dibekuk setelah 4 tahun buron. Polisi menembak kaki pela…',), ('Pelaku pembunuhan kepala desa Alue Kaol, Rantau Selamat, Aceh Timur, dibekuk setelah 4 tahun buron. Polisi menembak… https://t.co/UUBxHFcZWI',), ('Muhammad Restu Basri alias Restu, 22, ditangkap polisi karena diduga membunuh seorang wanita yang merupakan pasanga… https://t.co/fPONFSNyCC',), ('RT @detikcom: Beberapa hari ini #Cianjur dihebohkan dengan penemuan jasad pria di pelataran toko di Jalan Raya Cianjur-Sukabumi, Desa Sirna…',), ('RT @detikcom: Beberapa hari ini #Cianjur dihebohkan dengan penemuan jasad pria di pelataran toko di Jalan Raya Cianjur-Sukabumi, Desa Sirna…',), ('Beberapa hari ini #Cianjur dihebohkan dengan penemuan jasad pria di pelataran toko di Jalan Raya Cianjur-Sukabumi,… https://t.co/DAzFicjvpC',), ('RT @detikcom: Pria berinisial H awalnya pura-pura syok saat mengetahui istrinya tewas karena dibunuh. Saat ditelusuri, ternyata H menjadi d…',), ('RT @detikcom: Pria berinisial H awalnya pura-pura syok saat mengetahui istrinya tewas karena dibunuh. Saat ditelusuri, ternyata H menjadi d…',), ('RT @detikcom: Pria berinisial H awalnya pura-pura syok saat mengetahui istrinya tewas karena dibunuh. Saat ditelusuri, ternyata H menjadi d…',), ('RT @detikcom: Pria berinisial H awalnya pura-pura syok saat mengetahui istrinya tewas karena dibunuh. Saat ditelusuri, ternyata H menjadi d…',), ('Pria berinisial H awalnya pura-pura syok saat mengetahui istrinya tewas karena dibunuh. Saat ditelusuri, ternyata H… https://t.co/BhALZre7nV',), ('Pria asal Polewali Mandar, Sulawesi Barat itu diduga telah menganiaya pacarnya hingga tewas di bekas Pos Lantas di… https://t.co/v6SKMa79OH',), ('Suami Pura-pura Syok dan Menangis Saat Melihat Istri Tewas, Ternyata Dia Pelaku Pembunuhannya… https://t.co/4ptSpU9BxT',), ('RT @detikcom: Polisi mengungkap kasus pembunuhan perempuan berinisial AS di Tanjung Bintang, Lampung Selatan. Ternyata pembunuhan ini didal…',), ('Polisi mengungkap kasus pembunuhan perempuan berinisial AS di Tanjung Bintang, Lampung Selatan. Ternyata pembunuhan… https://t.co/feAyhbIjir',), ('#Pembunuhan\\n#Penganiayaan\\n\\nPelaku pembunuhan sadis terhadap Irmayanti (23) yang ditemukan berlumuran darah di bekas… https://t.co/U51YhcKV9A',), ('#SuamiBunuhIstri\\n#Pembunuhan\\n\\nSuami yang tidak terima saat istri tua memintanya memilih, akhirnya membunuh wanita p… https://t.co/r1LSBoXV7o',), ('#Meninggal #Pembunuhan |\\n\\nSeorang gadis remaja ditemukan tewas dengan luka parah di dalam bekas kantor pos polisi,… https://t.co/7VBUulIQXO',), ('#Meninggal\\n#Pembunuhan\\n\\nSeorang gadis remaja ditemukan tewas dengan luka parah di dalam bekas kantor pos polisi, Mi… https://t.co/yMoO7ipBNB',), ('#SuamiBunuhIstri\\n#Pembunuhan\\n\\nNyawa istri tua melayang akibat iri dengan nasib istri muda yang hidup berkecukupan t… https://t.co/vcv088M2yA',), ('Pengadilan Negeri (PN) Jakarta Selatan menjadwalkan sidang perdana pembacaan dakwaan terhadap tersangka seorang wan… https://t.co/dssubZ36ed',), ('#Pembunuhan\\n#Pengeroyokan\\n\\nDikeroyok saat hendak Salat Subuh, MZ ditemukan tewas.\\n\\nRemaja berusia 16 tahun itu dike… https://t.co/Bw0yUUB6nJ',), ('#pembunuhan \\n#sidikalang \\n#dairi \\n#panen_duren \\n#panen_durian \\n#sumut \\nhttps://t.co/ZAh1qxuo5K',), ('Francine ternyata ingin mengandung anak lagi, padahal mereka sudah memiliki dua orang anak. #KAMUHARUSTAU… https://t.co/QbApQ7Svpp',), ('#Pembunuhan\\n#Pemerkosaan\\n\\nSeorang pria dihukum seumur hidup di Singapura setelah terbukti membunuh dan berniat meny… https://t.co/2WUBZ9YBJr',), ('Jajaran Polres Kapuas Hulu akhirnya berhasil mengungkap identitas mayat perempuan dalam karung yang ditemukan di Ke… https://t.co/LhIkUC1kui',), ('Seorang ibu rumah tangga (IRT) ditemukan tewas bersimbah darah di Surabaya, Jawa Timur. Diduga IRT ini merupakan ko… https://t.co/i84Y6XiP5n',), ('Sakim Fadillah, 38, nekat menghabisi seorang bos toko bangunan UD Maju Djaya, Senawati Candra, 54, pada Rabu (5/2)… https://t.co/0ULrZAEUid',), ('Kasatreskrim Jepara Akui Kasus Pembunuhan Sopir Grab Asal Kudus Masih Gelap\\n#Jepara #SopirGrab #pembunuhan… https://t.co/IUE1eDdnMD',), ('Cekcok Masalah Durian, Anak Bacok Ayah hingga Tewas di Dairi Sumut\\n\\nhttps://t.co/TGHUt9uo70\\n\\n#medan #dairi #sumut… https://t.co/SquTtw9gZ1',), ('#Pembunuhan\\nJasad Rika Murni (32) ditemukan tak bernyawa di bawah tempat tidurnya setelah dirinya dibunuh oleh oran… https://t.co/fxQRt6Snbd',), ('Ngamuk, ODGJ Pembunuh Ipar Diamankan https://t.co/y2sxKHzgdO #berita #nusabali #ODGJ #OrangGila #SakitJiwa #Pembunuhan',), ('Grab Angkat Suara Soal Drivernya di Kudus yang Tewas Dibunuh\\n#Kudus #SopirGrab #pembunuhan @murianewscom https://t.co/uUMQYZqaEh',), ('Akseyna tewas pada tahun 2015 silam, dan hingga kini belum diketahui siapa pembunuhnya. #KAMUHARUSTAU #AkseynaDori… https://t.co/LBV9LXYJQ2',), ('Tersangka Pembunuh Janda Merupakan Teman Anak Korban https://t.co/E9FX4T5I27 #berita #nusabali #Kriminal #Pembunuhan #PolrestaDenpasar',), ('RT @detikcom: Muhammad Rega (31) tewas bersimbah darah. Rega pergi selamanya meninggalkan seorang anak berusia 3 tahun dan istri yang tenga…',), ('RT @detikcom: Muhammad Rega (31) tewas bersimbah darah. Rega pergi selamanya meninggalkan seorang anak berusia 3 tahun dan istri yang tenga…',), ('RT @detikcom: Muhammad Rega (31) tewas bersimbah darah. Rega pergi selamanya meninggalkan seorang anak berusia 3 tahun dan istri yang tenga…',), ('RT @detikcom: Janda bos toko material, Senawati Candra (55) ternyata dibunuh teman dari anak korban. Pelaku mengaku kesal dengan Senawati.…',), ('RT @detikcom: Janda bos toko material, Senawati Candra (55) ternyata dibunuh teman dari anak korban. Pelaku mengaku kesal dengan Senawati.…',), ('RT @detikcom: Muhammad Rega (31) tewas bersimbah darah. Rega pergi selamanya meninggalkan seorang anak berusia 3 tahun dan istri yang tenga…',), ('Janda bos toko material, Senawati Candra (55) ternyata dibunuh teman dari anak korban. Pelaku mengaku kesal dengan… https://t.co/9HrKCdOFWX',), ('RT @detikcom: Muhammad Rega (31) tewas bersimbah darah. Rega pergi selamanya meninggalkan seorang anak berusia 3 tahun dan istri yang tenga…',), ('RT @detikcom: Muhammad Rega (31) tewas bersimbah darah. Rega pergi selamanya meninggalkan seorang anak berusia 3 tahun dan istri yang tenga…',), ('Muhammad Rega (31) tewas bersimbah darah. Rega pergi selamanya meninggalkan seorang anak berusia 3 tahun dan istri… https://t.co/pmJ7GA8CC4',), ('RT @detikcom: Polisi menyita barang bukti untuk ritual perdukunan yang dilakukan pelaku Asep Rizky. Selain pisau, tasbih, dan dupa, polisi…',), ('RT @RichardFangohoi: Polres Minahasa Menggelar Rekonstruksi Kasus Pembunuhan di Seretan https://t.co/7hiIUxJxWg\\n\\n@detikmanadocom \\n#Kriminal…',), ('Polres Minahasa Menggelar Rekonstruksi Kasus Pembunuhan di Seretan https://t.co/7hiIUxJxWg\\n\\n@detikmanadocom… https://t.co/wLrJ8UjLEY',), ('RT @RichardFangohoi: Warga Lembean Minahasa Tewas Gantung Diri di Pohon https://t.co/dnEF5d5jii\\n\\n@detikmanadocom \\n#Kriminal\\n#Pembunuhan\\n#Le…',), ('Warga Lembean Minahasa Tewas Gantung Diri di Pohon https://t.co/dnEF5d5jii\\n\\n@detikmanadocom \\n#Kriminal\\n#Pembunuhan\\n#Lembean\\n#Minahasa',), ('Polisi menyita barang bukti untuk ritual perdukunan yang dilakukan pelaku Asep Rizky. Selain pisau, tasbih, dan dup… https://t.co/TVrE2rWOCI',), ('#batak \\n#tki \\n#Australia \\n#Pembunuhan \\n#perampok \\n#tanjungpinang \\n#aceh \\nhttps://t.co/iLLq8DO0I1\\n@Topmetronews',), ('Janda Dibunuh Karyawannya karena Rasa Sakit Hati https://t.co/A6mYWBKKU3 #berita #nusabali #Kriminal #Pembunuhan #Mayat #Tewas',), ('RT @detikcom: Maksud hati ingin mencari kekayaan agar terbebas dari jeratan utang, Yahya Ali Wafa, Warga Tangerang, malah tewas mengenaskan…',), ('Maksud hati ingin mencari kekayaan agar terbebas dari jeratan utang, Yahya Ali Wafa, Warga Tangerang, malah tewas m… https://t.co/k7k68GGul3',), ('RT @detikcom: Sang anak sempat berlari ke luar rumah dan berteriak minta tolong. Namun, tak seorangpun tetangga yang membantu... #Pembunuha…',), (\"RT @nusabalicom: Janda 'Dibunuh' Mantan Karyawannya https://t.co/jpVa9JxrSS #berita #nusabali #Kriminal #Pembunuhan #Tewas\",), ('Sejumlah fakta terungkap terkait pembunuhan yang dilakukan LT cs untuk menghabisi Edwadr Silaban. Dia menghabisi Ed… https://t.co/r6mCoKU9D8',), ('RT @detikcom: Polisi telah menetapkan LT sebagai tersangka sekaligus otak pembunuhan Edward Silaban. LT nekat menghabisi nyawa Edward lanta…',), ('Polisi telah menetapkan LT sebagai tersangka sekaligus otak pembunuhan Edward Silaban. LT nekat menghabisi nyawa Ed… https://t.co/aEUAM18vuv',)]\n",
      "<module 'pandas' from '/usr/local/lib/python3.6/dist-packages/pandas/__init__.py'>\n"
     ]
    },
    {
     "data": {
      "text/html": [
       "<div>\n",
       "<style scoped>\n",
       "    .dataframe tbody tr th:only-of-type {\n",
       "        vertical-align: middle;\n",
       "    }\n",
       "\n",
       "    .dataframe tbody tr th {\n",
       "        vertical-align: top;\n",
       "    }\n",
       "\n",
       "    .dataframe thead th {\n",
       "        text-align: right;\n",
       "    }\n",
       "</style>\n",
       "<table border=\"1\" class=\"dataframe\">\n",
       "  <thead>\n",
       "    <tr style=\"text-align: right;\">\n",
       "      <th></th>\n",
       "      <th>0</th>\n",
       "    </tr>\n",
       "  </thead>\n",
       "  <tbody>\n",
       "    <tr>\n",
       "      <th>0</th>\n",
       "      <td>RT @detikcom: Desi tega membunuh bayinya sendi...</td>\n",
       "    </tr>\n",
       "    <tr>\n",
       "      <th>1</th>\n",
       "      <td>RT @detikcom: Desi tega membunuh bayinya sendi...</td>\n",
       "    </tr>\n",
       "    <tr>\n",
       "      <th>2</th>\n",
       "      <td>RT @detikcom: Desi tega membunuh bayinya sendi...</td>\n",
       "    </tr>\n",
       "    <tr>\n",
       "      <th>3</th>\n",
       "      <td>Desi tega membunuh bayinya sendiri lalu membua...</td>\n",
       "    </tr>\n",
       "    <tr>\n",
       "      <th>4</th>\n",
       "      <td>RT @detikcom: Jaksa menuntut Sugeng Santoso de...</td>\n",
       "    </tr>\n",
       "    <tr>\n",
       "      <th>...</th>\n",
       "      <td>...</td>\n",
       "    </tr>\n",
       "    <tr>\n",
       "      <th>95</th>\n",
       "      <td>RT @detikcom: Sang anak sempat berlari ke luar...</td>\n",
       "    </tr>\n",
       "    <tr>\n",
       "      <th>96</th>\n",
       "      <td>RT @nusabalicom: Janda 'Dibunuh' Mantan Karyaw...</td>\n",
       "    </tr>\n",
       "    <tr>\n",
       "      <th>97</th>\n",
       "      <td>Sejumlah fakta terungkap terkait pembunuhan ya...</td>\n",
       "    </tr>\n",
       "    <tr>\n",
       "      <th>98</th>\n",
       "      <td>RT @detikcom: Polisi telah menetapkan LT sebag...</td>\n",
       "    </tr>\n",
       "    <tr>\n",
       "      <th>99</th>\n",
       "      <td>Polisi telah menetapkan LT sebagai tersangka s...</td>\n",
       "    </tr>\n",
       "  </tbody>\n",
       "</table>\n",
       "<p>100 rows × 1 columns</p>\n",
       "</div>"
      ],
      "text/plain": [
       "                                                    0\n",
       "0   RT @detikcom: Desi tega membunuh bayinya sendi...\n",
       "1   RT @detikcom: Desi tega membunuh bayinya sendi...\n",
       "2   RT @detikcom: Desi tega membunuh bayinya sendi...\n",
       "3   Desi tega membunuh bayinya sendiri lalu membua...\n",
       "4   RT @detikcom: Jaksa menuntut Sugeng Santoso de...\n",
       "..                                                ...\n",
       "95  RT @detikcom: Sang anak sempat berlari ke luar...\n",
       "96  RT @nusabalicom: Janda 'Dibunuh' Mantan Karyaw...\n",
       "97  Sejumlah fakta terungkap terkait pembunuhan ya...\n",
       "98  RT @detikcom: Polisi telah menetapkan LT sebag...\n",
       "99  Polisi telah menetapkan LT sebagai tersangka s...\n",
       "\n",
       "[100 rows x 1 columns]"
      ]
     },
     "execution_count": 3,
     "metadata": {
      "tags": []
     },
     "output_type": "execute_result"
    }
   ],
   "source": [
    "import tweepy\n",
    "import pandas as pd\n",
    "import os\n",
    "\n",
    "#Twitter Access\n",
    "auth = tweepy.OAuthHandler( \"AAA\",\"BBB\")\n",
    "auth.set_access_token(\"XXX\",\"YYY\")\n",
    "api = tweepy.API(auth,wait_on_rate_limit = True)\n",
    "\n",
    "df = pd.DataFrame(columns=['text'])\n",
    "msgs = []\n",
    "msg =[]\n",
    "\n",
    "for tweet in tweepy.Cursor(api.search, q='#pembunuhan', rpp=100).items(100):\n",
    "    msg = [tweet.text] \n",
    "    msg = tuple(msg)                    \n",
    "    msgs.append(msg)\n",
    "print(msgs)\n",
    "df = pd.DataFrame(msgs)\n",
    "print(pd)\n",
    "df"
   ]
  },
  {
   "cell_type": "code",
   "execution_count": 0,
   "metadata": {
    "colab": {},
    "colab_type": "code",
    "id": "NZfMohCPv01b"
   },
   "outputs": [],
   "source": [
    "df.to_excel(\"tes.xlsx\",sheet_name='bunuh')"
   ]
  }
 ],
 "metadata": {
  "colab": {
   "collapsed_sections": [],
   "name": "GrabData.ipynb",
   "provenance": []
  },
  "kernelspec": {
   "display_name": "Python 3",
   "language": "python",
   "name": "python3"
  },
  "language_info": {
   "codemirror_mode": {
    "name": "ipython",
    "version": 3
   },
   "file_extension": ".py",
   "mimetype": "text/x-python",
   "name": "python",
   "nbconvert_exporter": "python",
   "pygments_lexer": "ipython3",
   "version": "3.7.6"
  }
 },
 "nbformat": 4,
 "nbformat_minor": 1
}
