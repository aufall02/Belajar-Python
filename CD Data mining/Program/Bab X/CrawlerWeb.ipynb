{
 "cells": [
  {
   "cell_type": "code",
   "execution_count": null,
   "metadata": {
    "scrolled": true
   },
   "outputs": [],
   "source": [
    "from bs4 import BeautifulSoup\n",
    "from selenium import webdriver\n",
    "import csv\n",
    "\n",
    "key = input(\"Key : \")\n",
    "\n",
    "url = [\n",
    "    'https://www.detik.com/search/searchall?query={}&siteid=2'.format(key),\n",
    "    ]\n",
    "\n",
    "for u in url:\n",
    "    driver = webdriver.Chrome(\"E:/jupiter/Ramadhan/chromedriver.exe\")\n",
    "    driver.get(u)\n",
    "    content = driver.page_source\n",
    "    driver.quit()\n",
    "    soup = BeautifulSoup(content, 'html.parser')\n",
    "\n",
    "    # persiapan membuat file csv dan menambahkan headernya\n",
    "    f = csv.writer(open('hasil.csv', 'w', newline='\\n'))\n",
    "    header = ['News Portal', 'Pencarian Terkait', 'Judul', 'Waktu Post & Rangkuman']\n",
    "    f.writerow(header)\n",
    "\n",
    "    # melakukan perulangan pada array url\n",
    "    if 'detik.com' in u:\n",
    "        # DETIK.COM\n",
    "        # variabel tambahan\n",
    "        portaldetik = 'Detik.com'\n",
    "        keysearchdetik = key\n",
    "        # list\n",
    "        turun = soup.findAll('span', attrs={'class':'box_text'})\n",
    "        samping = soup.findAll('div', attrs={'class':'box_text text_inside'})\n",
    "        # data yang akan di crawl\n",
    "        detikrawtitle = soup.findAll('h2', attrs={'class':'title'})\n",
    "        detikrawrangkuman = soup.findAll('p')\n",
    "        detikrawdate = soup.findAll('span', attrs={'class':'date'})\n",
    "\n",
    "        detik_tambah_satu = open('hasil.csv', 'a', newline='\\n')\n",
    "        # loop\n",
    "        for x in range(0, len(turun)):\n",
    "            portal = portaldetik\n",
    "            search = keysearchdetik\n",
    "            title = (\"{}\".format(detikrawtitle[x].text.strip()))\n",
    "            rrangkuman = (\"{}\".format(detikrawrangkuman[x].text.strip()))  \n",
    "            date = (\"{}\".format(detikrawdate[x].text.strip()))\n",
    "            rangkuman = date + \", Rangkuman berita : \" + rrangkuman  \n",
    "            # menulis ke file csv\n",
    "            detik_save_pertama = csv.writer(detik_tambah_satu)\n",
    "            detik_save_pertama.writerow([portal, search, title, rangkuman])\n",
    "\n",
    "        detik_tambah_dua = open('hasil.csv', 'a', newline='\\n')\n",
    "        for x in range(0, len(samping)):\n",
    "            portal = portaldetik\n",
    "            search = keysearchdetik\n",
    "            title = (\"{}\".format(samping[x].text.strip()))\n",
    "            rangkuman = 'Tidak ada'\n",
    "            # date = 'Tidak dicantumkam'\n",
    "            # menulis ke file csv\n",
    "            detik_save_kedua = csv.writer(detik_tambah_dua)\n",
    "            detik_save_kedua.writerow([portal, search, title, rangkuman])\n",
    "\n",
    "  "
   ]
  }
 ],
 "metadata": {
  "kernelspec": {
   "display_name": "Python 3",
   "language": "python",
   "name": "python3"
  },
  "language_info": {
   "codemirror_mode": {
    "name": "ipython",
    "version": 3
   },
   "file_extension": ".py",
   "mimetype": "text/x-python",
   "name": "python",
   "nbconvert_exporter": "python",
   "pygments_lexer": "ipython3",
   "version": "3.7.6"
  }
 },
 "nbformat": 4,
 "nbformat_minor": 4
}
