{
 "cells": [
  {
   "cell_type": "code",
   "execution_count": 1,
   "metadata": {},
   "outputs": [],
   "source": [
    "#Impor Pustaka\n",
    "%matplotlib inline\n",
    "import matplotlib.pyplot as plt\n",
    "import numpy as np\n",
    "import pandas as pd\n",
    "from sklearn.cluster import KMeans"
   ]
  },
  {
   "cell_type": "code",
   "execution_count": 2,
   "metadata": {},
   "outputs": [
    {
     "data": {
      "text/plain": [
       "array([[0.8, 0.8],\n",
       "       [1.2, 1. ],\n",
       "       [1. , 1.2],\n",
       "       [2. , 1.5],\n",
       "       [0.7, 1.5],\n",
       "       [2.5, 3. ],\n",
       "       [3. , 2.5],\n",
       "       [3. , 2. ],\n",
       "       [3. , 3. ],\n",
       "       [3.5, 3.9],\n",
       "       [2.5, 3.5]])"
      ]
     },
     "execution_count": 2,
     "metadata": {},
     "output_type": "execute_result"
    }
   ],
   "source": [
    "#Mengambil data dari file csv\n",
    "datasiswa=pd.read_csv('kmeansbeasiswa.csv')\n",
    "df=pd.DataFrame(datasiswa,columns=['Mahasiswa','IPK','Tingkat Kemiskinan (TM)'])\n",
    "X=np.asarray(datasiswa)\n",
    "x_train=X[:,1:]\n",
    "x_train"
   ]
  },
  {
   "cell_type": "code",
   "execution_count": 3,
   "metadata": {},
   "outputs": [
    {
     "data": {
      "text/plain": [
       "KMeans(algorithm='auto', copy_x=True, init='k-means++', max_iter=300,\n",
       "       n_clusters=2, n_init=10, n_jobs=None, precompute_distances='auto',\n",
       "       random_state=None, tol=0.0001, verbose=0)"
      ]
     },
     "execution_count": 3,
     "metadata": {},
     "output_type": "execute_result"
    }
   ],
   "source": [
    "#Proses pengklusteran dengan K-Means\n",
    "kmeans = KMeans(n_clusters=2)\n",
    "kmeans.fit(x_train)"
   ]
  },
  {
   "cell_type": "code",
   "execution_count": 4,
   "metadata": {},
   "outputs": [
    {
     "name": "stdout",
     "output_type": "stream",
     "text": [
      "[[2.91666667 2.98333333]\n",
      " [1.14       1.2       ]]\n",
      "[1 1 1 1 1 0 0 0 0 0 0]\n"
     ]
    }
   ],
   "source": [
    "pusat=kmeans.cluster_centers_\n",
    "labels=kmeans.labels_\n",
    "print(pusat)\n",
    "print(labels)"
   ]
  },
  {
   "cell_type": "code",
   "execution_count": 5,
   "metadata": {},
   "outputs": [
    {
     "data": {
      "image/png": "[encoded data removed]",
      "text/plain": [
       "<Figure size 432x288 with 1 Axes>"
      ]
     },
     "metadata": {
      "needs_background": "light"
     },
     "output_type": "display_data"
    }
   ],
   "source": [
    "#Visualisasi Data\n",
    "absis=[x_train[:,0]]\n",
    "ordinat=[x_train[:,1]]\n",
    "target=labels+absis-absis\n",
    "plt.scatter(absis, ordinat, c=target, cmap='flag', marker='x')\n",
    "#Label\n",
    "plt.xlabel(\"IPK\")\n",
    "plt.ylabel(\"Tingkat Kemiskinan)\")\n",
    "plt.title(\"K-Means Clustering\")\n",
    "plt.scatter(pusat[:,0],pusat[:,1], marker='s')\n",
    "plt.grid()"
   ]
  },
  {
   "cell_type": "code",
   "execution_count": null,
   "metadata": {},
   "outputs": [],
   "source": []
  }
 ],
 "metadata": {
  "kernelspec": {
   "display_name": "Python 3",
   "language": "python",
   "name": "python3"
  },
  "language_info": {
   "codemirror_mode": {
    "name": "ipython",
    "version": 3
   },
   "file_extension": ".py",
   "mimetype": "text/x-python",
   "name": "python",
   "nbconvert_exporter": "python",
   "pygments_lexer": "ipython3",
   "version": "3.7.6"
  }
 },
 "nbformat": 4,
 "nbformat_minor": 4
}
