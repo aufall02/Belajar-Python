{
 "cells": [
  {
   "cell_type": "code",
   "execution_count": 1,
   "metadata": {},
   "outputs": [],
   "source": [
    "#impor pustaka\n",
    "import pandas as pd\n",
    "import numpy as np\n",
    "import matplotlib.pyplot as plt\n",
    "from sklearn import datasets\n",
    "from sklearn import svm\n",
    "from sklearn.metrics import accuracy_score\n",
    "from sklearn.metrics import classification_report\n",
    "from sklearn import svm, datasets"
   ]
  },
  {
   "cell_type": "markdown",
   "metadata": {},
   "source": [
    "### Mengambil Data Latih IRIS"
   ]
  },
  {
   "cell_type": "code",
   "execution_count": 2,
   "metadata": {},
   "outputs": [
    {
     "name": "stdout",
     "output_type": "stream",
     "text": [
      "[[8.  8. ]\n",
      " [7.  8. ]\n",
      " [7.  7. ]\n",
      " [8.  9. ]\n",
      " [6.  7. ]\n",
      " [7.  9. ]\n",
      " [7.5 8. ]\n",
      " [7.  7.5]]\n",
      "[[0.]\n",
      " [1.]\n",
      " [0.]\n",
      " [1.]\n",
      " [1.]\n",
      " [1.]\n",
      " [1.]\n",
      " [1.]]\n"
     ]
    }
   ],
   "source": [
    "#impor data latih iris \n",
    "datairis=pd.read_csv('penjurusan.csv')\n",
    "df=pd.DataFrame(datairis,columns=['No.','Nilai IPA','Nilai IPS','jurusan'])\n",
    "X=np.asarray(datairis)\n",
    "x_train=X[:,1:3]\n",
    "y_train=X[:,3:4]\n",
    "print(x_train)\n",
    "print(y_train)"
   ]
  },
  {
   "cell_type": "markdown",
   "metadata": {},
   "source": [
    "### Pembuatan Model SVM"
   ]
  },
  {
   "cell_type": "code",
   "execution_count": 3,
   "metadata": {},
   "outputs": [
    {
     "name": "stderr",
     "output_type": "stream",
     "text": [
      "C:\\Users\\Asus\\Anaconda3\\envs\\tensorflow\\lib\\site-packages\\sklearn\\utils\\validation.py:760: DataConversionWarning: A column-vector y was passed when a 1d array was expected. Please change the shape of y to (n_samples, ), for example using ravel().\n",
      "  y = column_or_1d(y, warn=True)\n"
     ]
    },
    {
     "data": {
      "text/plain": [
       "SVC(C=5, break_ties=False, cache_size=200, class_weight=None, coef0=0.0,\n",
       "    decision_function_shape='ovr', degree=3, gamma='scale', kernel='linear',\n",
       "    max_iter=-1, probability=False, random_state=None, shrinking=True,\n",
       "    tol=0.001, verbose=False)"
      ]
     },
     "execution_count": 3,
     "metadata": {},
     "output_type": "execute_result"
    }
   ],
   "source": [
    "#model SVM\n",
    "models = svm.SVC(kernel='linear', C=5)\n",
    "models.fit(x_train, y_train) "
   ]
  },
  {
   "cell_type": "code",
   "execution_count": 4,
   "metadata": {},
   "outputs": [
    {
     "name": "stdout",
     "output_type": "stream",
     "text": [
      "[[8.5 7.5]]\n",
      "[0.]\n"
     ]
    }
   ],
   "source": [
    "# cek model SVM\n",
    "data=np.array([[8.5,7.5]])\n",
    "print(data)\n",
    "y_pred=models.predict(data)\n",
    "print(y_pred)"
   ]
  },
  {
   "cell_type": "markdown",
   "metadata": {},
   "source": [
    "### Pembuatan GUI dengan TKinter"
   ]
  },
  {
   "cell_type": "code",
   "execution_count": 5,
   "metadata": {},
   "outputs": [],
   "source": [
    "import tkinter as tk\n",
    "def prediksi():\n",
    "    \"\"\" Prediksi dengan SVM\n",
    "    \"\"\"\n",
    "    x = ent_ipa.get()\n",
    "    X = np.array(float(x)).reshape(-1,1)\n",
    "    y = ent_ips.get()\n",
    "    Y = np.array(float(y)).reshape(-1,1)\n",
    "    data2=np.concatenate([X,Y],axis=1)\n",
    "    jurusan=models.predict(data2)\n",
    "    if (jurusan < 1.0):\n",
    "        hasil_jurusan[\"text\"] = \"IPA\"\n",
    "    else:\n",
    "        hasil_jurusan[\"text\"] = \"IPS\"\n",
    "    "
   ]
  },
  {
   "cell_type": "code",
   "execution_count": 6,
   "metadata": {},
   "outputs": [],
   "source": [
    "## Set window\n",
    "window = tk.Tk()\n",
    "window.title(\"Penjurusan Siswa\")\n",
    "window.resizable(width=True, height=True)\n",
    "\n",
    "# Membuat widget untuk masukan\n",
    "frm_entry = tk.Frame(master=window)\n",
    "ent_ipa = tk.Entry(master=frm_entry, width=10)\n",
    "lbl_varx = tk.Label(master=frm_entry, text=\"Nilai IPA\")\n",
    "ent_ips = tk.Entry(master=frm_entry, width=10)\n",
    "lbl_vary = tk.Label(master=frm_entry, text=\"Nilai IPS\")\n",
    "\n",
    "# Layout form masukan dengan  .grid() geometry manager\n",
    "ent_ipa.grid(row=0, column=1, sticky=\"e\")\n",
    "lbl_varx.grid(row=0, column=0, sticky=\"w\")\n",
    "lbl_vary.grid(row=1, column=0, sticky=\"w\")\n",
    "ent_ips.grid(row=1, column=1, sticky=\"e\")\n",
    "\n",
    "# Membuat tombol dan keluaran\n",
    "btn_convert = tk.Button(\n",
    "    master=window,\n",
    "    text=\"Penjurusan Siswa\",\n",
    "    command=prediksi\n",
    ")\n",
    "\n",
    "# Set-up layout keluaran dengan .grid() geometry manager\n",
    "hasil_jurusan = tk.Label(master=frm_entry, width=10)\n",
    "lbl_jurusan = tk.Label(master=frm_entry, text=\" Penjurusan =\")\n",
    "frm_entry.grid(row=0, column=1, padx=10)\n",
    "btn_convert.grid(row=1, column=1, pady=10)\n",
    "hasil_jurusan.grid(row=4, column=1, sticky=\"w\")\n",
    "lbl_jurusan.grid(row=4, column=0, sticky=\"w\")\n",
    "\n",
    "# Menjalankan aplikasi\n",
    "window.mainloop()"
   ]
  },
  {
   "cell_type": "code",
   "execution_count": null,
   "metadata": {},
   "outputs": [],
   "source": []
  }
 ],
 "metadata": {
  "kernelspec": {
   "display_name": "Python 3",
   "language": "python",
   "name": "python3"
  },
  "language_info": {
   "codemirror_mode": {
    "name": "ipython",
    "version": 3
   },
   "file_extension": ".py",
   "mimetype": "text/x-python",
   "name": "python",
   "nbconvert_exporter": "python",
   "pygments_lexer": "ipython3",
   "version": "3.7.6"
  }
 },
 "nbformat": 4,
 "nbformat_minor": 4
}
